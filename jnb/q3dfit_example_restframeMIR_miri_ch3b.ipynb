{
 "cells": [
  {
   "cell_type": "markdown",
   "metadata": {},
   "source": [
    "# q3dfit notebook: rest-frame MIR, JWST-MIRI/MRS data of F2M1106, restframe [SIV] 10.51 in Ch3B, from [Rupke et al. 2023](https://ui.adsabs.harvard.edu/abs/2023ApJ...953L..26R/abstract)"
   ]
  },
  {
   "cell_type": "markdown",
   "metadata": {},
   "source": [
    "This Jupyter notebook allows you to run Q3Dfit, a PSF decomposition and spectral analysis package tailored for JWST NIRSpec and MIRI IFU observations. \n",
    "\n",
    "Q3Dfit is developed as a science-enabling data product by the Early Release Science Team #1335 Q3D. You can find more information about this ERS program **Q3D** [here](https://q3d.github.io/) and [here](https://www.stsci.edu/jwst/science-execution/approved-programs/dd-ers/program-1335).\n",
    "\n",
    "The software is based on the existing package IFSFIT developed by Dave Rupke (see [ADS link](https://ui.adsabs.harvard.edu/abs/2017ApJ...850...40R/abstract)).\n",
    "\n",
    "The following notebook will guide you through the initialization procedure and will then perform the analysis. "
   ]
  },
  {
   "cell_type": "markdown",
   "metadata": {},
   "source": [
    "## Table of Contents\n",
    "\n",
    "* [1. Initialization](#chapter1)\n",
    "    * [1.0. Setting up the directory tree](#chapter1_0)\n",
    "    * [1.1. Initializing the fit](#chapter1_1)\n",
    "    * [1.2. Setting up the data and models](#chapter1_2)\n",
    "    * [1.3. Setting up the fitting parameters](#chapter1_3)\n",
    "        * [1.3.1. Emission line parameters](#chapter1_3_1)\n",
    "        * [1.3.2. Continuum parameters](#chapter1_3_2)\n",
    "* [2. Run fit](#chapter2)\n",
    "* [3. Plot fit results](#chapter3)\n",
    "* [4. Combine fit results for all spaxels](#chapter4)\n",
    "* [5. Plot science products](#chapter5)\n",
    "* [6. Output science products to FITS files](#chapter6)"
   ]
  },
  {
   "cell_type": "markdown",
   "metadata": {},
   "source": [
    "## 1. Initialization <a class=\"anchor\" id=\"chapter1\"></a>"
   ]
  },
  {
   "cell_type": "code",
   "execution_count": null,
   "metadata": {},
   "outputs": [],
   "source": [
    "import os.path\n",
    "import numpy as np\n",
    "%load_ext autoreload\n",
    "%autoreload 2\n",
    "%matplotlib widget"
   ]
  },
  {
   "cell_type": "code",
   "execution_count": null,
   "metadata": {},
   "outputs": [],
   "source": [
    "# Be sure to set the path to q3dfit correctly.\n",
    "# For instance:\n",
    "#import sys\n",
    "#sys.path.append('/Users/jwstuser/q3dfit/')\n",
    "#import sys\n",
    "#sys.path.append(\"../\")"
   ]
  },
  {
   "cell_type": "markdown",
   "metadata": {},
   "source": [
    "### 1.0. Setting up the directory tree <a class=\"anchor\" id=\"chapter1_0\"></a>\n",
    "\n",
    "Define the directories in which the data cube(s) that you want to analyse are stored and the output directories. We recommend creating a working directory that you name after your target, in which all outputs from q3dfit will be saved. Then download test data."
   ]
  },
  {
   "cell_type": "code",
   "execution_count": null,
   "metadata": {},
   "outputs": [],
   "source": [
    "# Base directory (book-keeping)\n",
    "volume = 'f2m1106-miri-siv/'\n",
    "# prefix label for output files\n",
    "label = 'f2m1106-miri-siv'\n",
    "# Input directory\n",
    "indir = volume\n",
    "if not os.path.exists(indir):\n",
    "    os.makedirs(indir)\n",
    "# Output directory\n",
    "outdir = volume\n",
    "if not os.path.exists(outdir):\n",
    "    os.makedirs(outdir)\n",
    "# Initialization file (q3di.npy) directory\n",
    "initdir = volume\n",
    "# Output logfile\n",
    "logfile = os.path.join(outdir, label+'-fitlog.txt')"
   ]
  },
  {
   "cell_type": "markdown",
   "metadata": {},
   "source": [
    "Download data from public Box folder:"
   ]
  },
  {
   "cell_type": "code",
   "execution_count": null,
   "metadata": {},
   "outputs": [],
   "source": [
    "# make tuples of urls and download filenames\n",
    "# infile = data cube\n",
    "infile_tup=('https://rhodes.box.com/shared/static/oesd3kx96ec1grvf1sv4lxsr9n2wxztl.fits','f2m1106-miri-ch3b.fits')\n",
    "# download files; by default don't force overwrite and take first element of output\n",
    "from q3dfit.jnb import download_files\n",
    "infile = download_files(infile_tup, outdir, force=False)[0]\n",
    "# add subdirectory to filenames\n",
    "infile = os.path.join(initdir, infile)"
   ]
  },
  {
   "cell_type": "markdown",
   "metadata": {},
   "source": [
    "### 1.1. Initializing the fit <a class=\"anchor\" id=\"chapter1_1\"></a>"
   ]
  },
  {
   "cell_type": "markdown",
   "metadata": {},
   "source": [
    "The initial parameters of the fit are stored in an object of class `q3din`. Each parameter or attribute of this class controls some aspect of the fit process. We start by instantiating the class. The only required parameters at the outset are the input data cube and label; the label is used for output file naming. \n",
    "\n",
    "The default JWST pipeline output has data, variance, and data quality in extensions 1, 2, and 3, respectively. Our processed cube has a different set of extensions, so we specify them here."
   ]
  },
  {
   "cell_type": "code",
   "execution_count": null,
   "metadata": {},
   "outputs": [],
   "source": [
    "from q3dfit.q3din import q3din\n",
    "q3di = q3din(infile, label, outdir=outdir, logfile=logfile)"
   ]
  },
  {
   "cell_type": "markdown",
   "metadata": {},
   "source": [
    "Here's a list of the fit parameters that are automatically set:"
   ]
  },
  {
   "cell_type": "code",
   "execution_count": null,
   "metadata": {
    "scrolled": true
   },
   "outputs": [],
   "source": [
    "q3di.__dict__"
   ]
  },
  {
   "cell_type": "markdown",
   "metadata": {},
   "source": [
    "### 1.2. Setting up the data and models <a class=\"anchor\" id=\"chapter1_2\"></a>\n",
    "\n",
    "Some general information about your cube. `argsreadcube` is a dictionary of attributes sent to the `Cube` class.\n",
    "- `q3dit` does calculations in f$_\\lambda$ space, but assumes input units of MJy/sr, the JWST default. The output flux units will be in erg/s/cm$^2$/$\\mu$m.\n",
    "- The version of the JWST pipeline that was used for this reduction produced error spectra, rather than variance, which is assumed by `q3dfit.` The `error` flag fixes this."
   ]
  },
  {
   "cell_type": "code",
   "execution_count": null,
   "metadata": {},
   "outputs": [],
   "source": [
    "q3di.argsreadcube = {'fluxnorm': 1e-18,\n",
    "                     'error': True}\n",
    "cube = q3di.load_cube()"
   ]
  },
  {
   "cell_type": "markdown",
   "metadata": {},
   "source": [
    "Let's plot a spaxel near the quasar to see how it looks. The arguments are column and row in unity-offset units. Specifying `radius=0` selects a single spaxel; specifying `radius` > 0 spaxels extracts flux in a circular aperture using `photutils`. The flux units are 10$^{-18}$ erg/s/cm$^2$/$\\mu$m."
   ]
  },
  {
   "cell_type": "code",
   "execution_count": null,
   "metadata": {},
   "outputs": [],
   "source": [
    "import matplotlib.pyplot as plt\n",
    "fig = plt.figure(figsize=[10,4])\n",
    "spec_test = cube.specextract(17, 28, radius=0)"
   ]
  },
  {
   "cell_type": "markdown",
   "metadata": {},
   "source": [
    "Name and systemic redshift of the galaxy. `zsys_gas` is an input for calculating velocity maps in `q3dpro` and for initializing the arrays of initial guesses below."
   ]
  },
  {
   "cell_type": "code",
   "execution_count": null,
   "metadata": {},
   "outputs": [],
   "source": [
    "q3di.name = 'F2M1106'\n",
    "q3di.zsys_gas = 0.435"
   ]
  },
  {
   "cell_type": "markdown",
   "metadata": {},
   "source": [
    "Wavelength range over which to fit data. The user can also specify sets of regions to ignore in the fit."
   ]
  },
  {
   "cell_type": "code",
   "execution_count": null,
   "metadata": {},
   "outputs": [],
   "source": [
    "q3di.fitrange = [14.6,15.5]\n",
    "#q3di.cutrange = np.array([,])"
   ]
  },
  {
   "cell_type": "markdown",
   "metadata": {},
   "source": [
    "#### 1.3.1. Emission-line parameters <a class=\"anchor\" id=\"chapter1_3_1\"></a>"
   ]
  },
  {
   "cell_type": "markdown",
   "metadata": {},
   "source": [
    "What lines do you want to fit? You can choose from the linelists available [here](https://github.com/Q3D/q3dfit/tree/main/q3dfit/data/linelists), or in `q3dfit/data/linelists/`."
   ]
  },
  {
   "cell_type": "code",
   "execution_count": null,
   "metadata": {},
   "outputs": [],
   "source": [
    "lines = ['[SIV]10.51']"
   ]
  },
  {
   "cell_type": "markdown",
   "metadata": {},
   "source": [
    "This block sets up initial conditions for the emission-line fit to each spaxel. This initialization method adds a number of new attributes to the object. Emission lines are set to a common redshift and velocity dispersion, set to `q3di.zsys_gas` and 50 km/s by default. However, different sets of emission lines can have different velocities and linewidths by specifying different lines to which to tie particular emission lines. Different initial conditions can also be set on a spaxel-by-spaxel and/or line-by-line basis. The default number of velocity components is 1. Here, we change this to 3."
   ]
  },
  {
   "cell_type": "code",
   "execution_count": null,
   "metadata": {},
   "outputs": [],
   "source": [
    "q3di.init_linefit(lines, linetie='[SIV]10.51', maxncomp=2)\n",
    "q3di.__dict__.keys()"
   ]
  },
  {
   "cell_type": "markdown",
   "metadata": {},
   "source": [
    "Because of the complexity of these line profiles, we change the default initial conditions. `zinit_gas` and `siginit_gas` are dictionaries of arrays that hold the initial conditions for each line, spaxel, and velocity component. These were the initial conditions that were used to fit the data for Rupke et al. 2023."
   ]
  },
  {
   "cell_type": "code",
   "execution_count": null,
   "metadata": {},
   "outputs": [],
   "source": [
    "for i in lines:\n",
    "    q3di.ncomp[i][22:,:] = 1\n",
    "    q3di.ncomp[i][23:27,19:27] = 2\n",
    "    q3di.ncomp[i][21:25,27:32] = 2\n",
    "    q3di.zinit_gas[i][22:,:,0] = 0.435\n",
    "    q3di.zinit_gas[i][23:27,19:27,0] = 0.437\n",
    "    q3di.zinit_gas[i][23:27,19:27,1] = 0.433\n",
    "    q3di.zinit_gas[i][21:25,27:32,0] = 0.437\n",
    "    q3di.zinit_gas[i][21:25,27:32,1] = 0.433\n",
    "    q3di.zinit_gas[i][:22,:,0] = 0.436\n",
    "    q3di.zinit_gas[i][:22,:,1] = 0.439\n",
    "    q3di.siginit_gas[i][:22,:,1] = 200."
   ]
  },
  {
   "cell_type": "markdown",
   "metadata": {},
   "source": [
    "`siglim_gas` sets lower and upper bounds for the Gaussian width (sigma) of the emission line. These limits can be set globablly, for all spaxels and components, by defining a 2-element array. The limits can also be set for individual spaxels (but all components) by defining an (Ncol x Nrow x 2) array."
   ]
  },
  {
   "cell_type": "code",
   "execution_count": null,
   "metadata": {},
   "outputs": [],
   "source": [
    "# Global limit\n",
    "q3di.siglim_gas = np.array([5., 2000.])\n",
    "\n",
    "# Spaxel-by-spaxel limit\n",
    "# siglim_gas = np.ndarray((dx, dy, 2))\n",
    "# siglim_gas[:,:,] = array([5.,1000.])\n",
    "# siglim_gas[13, 10, :] = array([5.,500.])"
   ]
  },
  {
   "cell_type": "markdown",
   "metadata": {},
   "source": [
    "The routine `checkcomp` automatically discards components that it deems insignificant after each fit. It does so with both a significance cut on flux, and if the linewidth is too large. If components are removed, the fit is re-run. The `sigcut` parameter determines the level of the significance cut. The `perror_useresid` option allows to substitute the formal line flux error with one estimated from the residual of the continnuum fit. This aids in more accurate component rejection in this case, because undersampling wiggles and fringeing are still present in the data and raise the actual error above that estimated by the pipeline (which is in any case too small). The `subone` option tells `checkcomp` to remove only one component at a time (necessary, e.g., if a two-component fit yields two low-significance components that both get rejected, but a one-component fit does not)."
   ]
  },
  {
   "cell_type": "code",
   "execution_count": null,
   "metadata": {},
   "outputs": [],
   "source": [
    "q3di.checkcomp = True\n",
    "q3di.argscheckcomp['sigcut'] = 3.\n",
    "q3di.argscheckcomp['subone'] = True\n",
    "q3di.perror_useresid = True"
   ]
  },
  {
   "cell_type": "markdown",
   "metadata": {},
   "source": [
    "#### Line ratio constraints\n",
    "Lines with ratios fixed by atomic physics have their ratios fixed automatically. Other line ratios can have bound constraints applied, or they can be fixed to a particular value.\n",
    "\n",
    "`line1`, `line2`, and `comp` are required. `comp` is an array of velocity components (zero-indexed) on which to apply the constraints, one array for each pair of lines.\n",
    "\n",
    "`value` is the initial value of `line1`/`line2`. Presently, if `value` is specified for one pair of lines, it must be specified for all. Otherwise, the initial value is determined from the data.\n",
    "\n",
    "The ratio can be `fixed` to the initial value. Presently, if `fixed` is defined, it must be set to `True` or `False` for all pairs of line.\n",
    "\n",
    "If the ratio is not `fixed`, `lower` and `upper` limits can also be specified. (If they are not, and the line pair is a doublet in the doublets.tbl file, then the lower and upper limits are set using the data in that file.) Presently, if `lower` or `upper` is defined here for one set of lines, it must be defined here for every pair of lines."
   ]
  },
  {
   "cell_type": "code",
   "execution_count": null,
   "metadata": {},
   "outputs": [],
   "source": [
    "# Required columns:\n",
    "# line1 = ['[NI]5198', '[SII]6716']\n",
    "# line2 = ['[NI]5200', '[SII]6731']\n",
    "# comp = np.array([[0], [0]], dtype=np.int32)\n",
    "\n",
    "# Optional columns:\n",
    "# value = [1.5, 1.]\n",
    "# fixed = [True, False]\n",
    "# lower = []\n",
    "# upper = []\n",
    "\n",
    "# Write table\n",
    "# from astropy.table import QTable\n",
    "# lineratio = QTable([line1, line2, comp, value, fixed], names=['line1', 'line2', 'comp', 'value', 'fixed'])\n",
    "\n",
    "# q3di.argslineinit['lineratio']=lineratio"
   ]
  },
  {
   "cell_type": "markdown",
   "metadata": {},
   "source": [
    "#### Spectral resolution convolution\n",
    "\n",
    "If no convolution is desired: do not set `spect_convol` (or set it to `{}`, or `None`).\n",
    "\n",
    "If convolution is desired: `spect_convol` is a dictionary with two optional tags.\n",
    "- `ws_instrum`: This specifies the desired convolution method. The syntax is: `{INSTRUMENT:[GRATING]}`. The values for `INSTRUMENT` and `GRATING` for pre-defined dispersion files should mirror the filename syntax in `q3dfit/data/dispersion_files/`. E.g., for file `jwst_miri_ch1a_disp.fits`, `INSTRUMENT=jwst_miri` and `GRATING=ch1a`. (Case is irrelevant. For convolution with a constant value of spectral resolution [R], Δλ FWHM in [$\\mu$m], or velocity in [km/s], set `INSTRUMENT = flat` and `GRATING = ` a string containing `R`, `dlam`, or `dvel` and the corresponding numerical quantity. More thana one instrument and/or grating can be set.\n",
    "- `dispdir`: Directory in which to find the dispersion files. If not set, the default `q3dfit` directory is searched.\n",
    "\n",
    "Examples: \n",
    "1. flat R=500: `spect_instrum = {'flat':['R500']}`\n",
    "2. flat velocity FWHM = 30km/s: `spect_instrum = {'flat':['dvel30']}`\n",
    "3. flat Δλ FWHM = 4 Å: `spect_instrum = {'flat':['dlam0.0004']}`\n",
    "4. JWST NIRSPEC / G140M: `spect_instrum = {'JWST_NIRSPEC':['G140M']}`\n",
    "5. Spitzer IRS SH+LH: `spect_instrum = {'Spitzer_IRS':['ch1_sh','ch1_lh']}`\n",
    "\n",
    "Note in the final example that two gratings are set."
   ]
  },
  {
   "cell_type": "code",
   "execution_count": null,
   "metadata": {},
   "outputs": [],
   "source": [
    "q3di.spect_convol['ws_instrum'] = {'JWST_MIRI':['ch3b']}"
   ]
  },
  {
   "cell_type": "markdown",
   "metadata": {},
   "source": [
    "##### Creating convolution files (optional)\n",
    "\n",
    "To create a dispersion file, use one of the following methods. The second two involve specific subclasses of the dispersion class used for the instrument/grating file or constant dispersion formats \n",
    "\n",
    "1. Create a `dispersion` object and use the `dispersion.write()` method. For example:\n",
    "\n",
    "```\n",
    "dispEx1 = dispersion()\n",
    "dispEx1.write('/dispdir/disp.fits', wave=np.linspace(5.,10.,50), type='R', disp=np.full(50, 500.))\n",
    "```\n",
    "\n",
    "2. Create a `InstGratDispersion` object to attach instrument and grating information to the object and define the output filename in the `q3dfit` format. Use the `InstGratDispersion.writeInstGrat()` method.\n",
    "\n",
    "```\n",
    "dispEx2 = InstGratDispersion(`Keck_ESI`,`echellette`, dispdir=`/dispdir/`)\n",
    "dispEx2.writeInstGrat(wave=np.linspace(5.,10.,50), type='dvel', disp=np.full(50, 30.))\n",
    "```\n",
    "\n",
    "3. Create a `FlatDispersion` object and use the `FlatDispersion.writeFlat()` method. This requires only a single value for the dispersion quantity and also defines the filename automatically.\n",
    "```\n",
    "dispEx3 = FlatDispersion(0.0004,`dlam`,wave=np.linspace(5.,10.,50))\n",
    "dispEx3.writeFlat(dispdir=`/dispdir/`)\n",
    "```"
   ]
  },
  {
   "cell_type": "markdown",
   "metadata": {},
   "source": [
    "#### Options to `lmfit` and `scipy.optimize.least_squares`\n",
    "`q3dfit` uses the `fit` method of the [`Model` class](https://lmfit.github.io/lmfit-py/model.html#lmfit.model.Model) of `lmfit` to call [`scipy.optimize.least_squares`](https://docs.scipy.org/doc/scipy/reference/generated/scipy.optimize.least_squares.html). Both the method and function have options which can be changed in the `q3dfit` call. To do so, add key/value pairs to the `argslinefit` dictionary, which in turn is a keyword of the `q3di` dictionary.\n",
    "\n",
    "The options to the `fit` method in `lmfit` that can currently be changed are the following:\n",
    "- `max_nfev`: maximum number of function evaluations before the fit aborts\n",
    "- `iter_cb`: if this is set to \"per_iteration\", the value of every model parameter at each function evaluation is printed to `stdout`\n",
    "\n",
    "Most parameters of `least_squares` can be changed in this way, unless they are specifically set by `lmfit`. Examples which have been tested include:\n",
    "- `x_scale`: jac\n",
    "- `tr_solver`: lsmr\n",
    "- `loss`: soft_l1\n",
    "- `ftol`, `gtol`, `xtol`"
   ]
  },
  {
   "cell_type": "code",
   "execution_count": null,
   "metadata": {},
   "outputs": [],
   "source": [
    "#q3di.argslinefit['iter_cb'] = 'per_iteration'\n",
    "# As an example, to change the criteria for fit convergence from the defaults of 1.e-8 to 1.e-10:\n",
    "q3di.argslinefit['method'] = 'leastsq'\n",
    "q3di.argslinefit['ftol'] = 1.e-15\n",
    "q3di.argslinefit['gtol'] = 1.e-15\n",
    "q3di.argslinefit['xtol'] = 1.e-15\n",
    "q3di.argslinefit['epsfcn'] = 1.e-10"
   ]
  },
  {
   "cell_type": "markdown",
   "metadata": {},
   "source": [
    "#### 1.3.2 Continuum parameters <a class=\"anchor\" id=\"chapter1_3_2\"></a>"
   ]
  },
  {
   "cell_type": "markdown",
   "metadata": {},
   "source": [
    "We next initialize the continuum. As part of this, we give it the name of our continuum fitting function, which in this case is a simple polynomial."
   ]
  },
  {
   "cell_type": "code",
   "execution_count": null,
   "metadata": {},
   "outputs": [],
   "source": [
    "q3di.init_contfit('fitpoly')\n",
    "q3di.__dict__.keys()"
   ]
  },
  {
   "cell_type": "markdown",
   "metadata": {},
   "source": [
    "`q3dfit` first masks emission lines before fitting. The default mask value is 500 km/s for each velocity component for the first fit. During the second fit, the mask value is set automatically using the best-fit linewidths determined from the first fit.\n",
    "\n",
    "For this case, the lines are quite broad and we change the default."
   ]
  },
  {
   "cell_type": "code",
   "execution_count": null,
   "metadata": {},
   "outputs": [],
   "source": [
    "q3di.maskwidths_def = 1000."
   ]
  },
  {
   "cell_type": "markdown",
   "metadata": {},
   "source": [
    "The continuum fitting parameters specified here are for a polynomial."
   ]
  },
  {
   "cell_type": "code",
   "execution_count": null,
   "metadata": {},
   "outputs": [],
   "source": [
    "q3di.argscontfit['fitord'] = 3"
   ]
  },
  {
   "cell_type": "markdown",
   "metadata": {},
   "source": [
    "If you want to run `q3dfit` in batch mode, run this cell, which saves q3di to an `npy` file. In your python command line, read in file and run `q3dfit` with\n",
    "<pre><code>q3di = '/path/to/the/npy/file/q3di.npy'\n",
    "from q3dfit.q3dfit import q3dfit\n",
    "q3dfot(q3di,cols=cols,rows=rows)</code></pre>\n",
    "N.B.: When running `q3dfit` using multiple cores (`ncores=N` in the call to `q3df`), the input dictionary has to be specified in this way; i.e., as a string describing the location of this .npy file."
   ]
  },
  {
   "cell_type": "code",
   "execution_count": null,
   "metadata": {},
   "outputs": [],
   "source": [
    "q3di_npy = 'q3di.npy'\n",
    "np.save(os.path.join(initdir, q3di_npy), q3di)"
   ]
  },
  {
   "cell_type": "markdown",
   "metadata": {},
   "source": [
    "## 2. Run fit <a class=\"anchor\" id=\"chapter2\"></a>"
   ]
  },
  {
   "cell_type": "markdown",
   "metadata": {},
   "source": [
    "Choose columns and rows to fit. Ranges are specified as two-element lists specifying the first and last spaxel."
   ]
  },
  {
   "cell_type": "code",
   "execution_count": null,
   "metadata": {},
   "outputs": [],
   "source": [
    "# Example for individual spaxels\n",
    "# spaxel with two components\n",
    "cols = 18\n",
    "rows = 28\n",
    "# spaxel with no line\n",
    "#cols=35\n",
    "#rows=31\n",
    "# Box encompassing extent of [SIV] emission\n",
    "#cols = [12,35]\n",
    "#rows = [16,35]"
   ]
  },
  {
   "cell_type": "markdown",
   "metadata": {},
   "source": [
    "Run the fit. Choose `quiet=False` for verbose output. An output object for each spaxel, of class `q3dout`, is saved to a numpy binary file labeled with prefix `q3di['label']` and suffix `_col_row.npy`. See note above on multicore processing."
   ]
  },
  {
   "cell_type": "code",
   "execution_count": null,
   "metadata": {},
   "outputs": [],
   "source": [
    "from q3dfit.q3df import q3dfit\n",
    "# Fit a single spaxel\n",
    "q3dfit(q3di,cols=cols,rows=rows, quiet=False)\n",
    "# Run all spaxels with multiple cores\n",
    "#q3dfit(os.path.join(initdir, q3di_npy),cols=cols,rows=rows, ncores=10) #quiet=False)"
   ]
  },
  {
   "cell_type": "markdown",
   "metadata": {},
   "source": [
    "## 3. Plot fit results <a class=\"anchor\" id=\"chapter3\"></a>"
   ]
  },
  {
   "cell_type": "markdown",
   "metadata": {},
   "source": [
    "Load the output of a fit."
   ]
  },
  {
   "cell_type": "code",
   "execution_count": null,
   "metadata": {},
   "outputs": [],
   "source": [
    "q3di = np.load(os.path.join(initdir, 'q3di.npy'), allow_pickle=True).item()\n",
    "cols = 18\n",
    "rows = 28\n",
    "from q3dfit.q3dout import load_q3dout\n",
    "q3do = load_q3dout(q3di, cols, rows)"
   ]
  },
  {
   "cell_type": "markdown",
   "metadata": {},
   "source": [
    "Set up the line plot parameters using a dictionary.\n",
    "\n",
    "* `nx`: Number of subplots in the horizontal direction (default = 1)\n",
    "* `ny`: Number of subplots in the vertical direction (default = 1)\n",
    "* Required: choose one options for centerting the plot\n",
    "    - `line`: a string list of line labels\n",
    "    - `center_obs`: a float list of wavelengths of each subplot center, in the observed (plotted) frame\n",
    "    - `center_rest`: a float list of wavelengths of each subplot center, in the rest frame, which are converted to obs. frame\n",
    "* `size`: float list of widths in wavelength space of each subplot; if not specified (default = 300 $Å$)\n",
    "* `IR`: set to `True` to use infrared-style plot"
   ]
  },
  {
   "cell_type": "code",
   "execution_count": null,
   "metadata": {},
   "outputs": [],
   "source": [
    "argsplotline = dict()\n",
    "argsplotline['nx'] = 1\n",
    "argsplotline['ny'] = 1\n",
    "argsplotline['line'] = ['[SIV]10.51']\n",
    "argsplotline['size'] = [0.5]\n",
    "argsplotline['figsize'] = [8,5]"
   ]
  },
  {
   "cell_type": "markdown",
   "metadata": {},
   "source": [
    "Run the plot method. The output can be saved as a jpg by specifying `savefig=True`. A default filename is used, which can be overridden by specifying `outfile=file`. The output file will have the suffix `_lin` attached, so that the actual filename will be \"file_lin.jpg\"."
   ]
  },
  {
   "cell_type": "code",
   "execution_count": null,
   "metadata": {},
   "outputs": [],
   "source": [
    "q3do.plot_line(q3di,plotargs=argsplotline)"
   ]
  },
  {
   "cell_type": "markdown",
   "metadata": {},
   "source": [
    "The continuum plot can be changed by specifying several parameters. In this case, we have chosen to output a linear/linear plot of f$_\\lambda$ vs. wavelength."
   ]
  },
  {
   "cell_type": "code",
   "execution_count": null,
   "metadata": {},
   "outputs": [],
   "source": [
    "argscontplot = dict()\n",
    "argscontplot['xstyle'] = 'lin'\n",
    "argscontplot['ystyle'] = 'lin'\n",
    "argscontplot['fluxunit_out'] = 'flambda'\n",
    "argscontplot['mode'] = 'dark'\n",
    "argscontplot['figsize'] = [10,8]"
   ]
  },
  {
   "cell_type": "markdown",
   "metadata": {},
   "source": [
    "Run two methods. The first computes the continuum values to plot, and the second does the plotting.\n",
    "\n",
    "Because we specified `decompose_qso_fit=True` in the `q3di` object, three plots are created: one for the host-only light, one for quasar-only light, and one for the total continuum."
   ]
  },
  {
   "cell_type": "code",
   "execution_count": null,
   "metadata": {},
   "outputs": [],
   "source": [
    "q3do.sepcontpars(q3di)\n",
    "q3do.plot_cont(q3di, plotargs=argscontplot)"
   ]
  },
  {
   "cell_type": "markdown",
   "metadata": {},
   "source": [
    "## 4. Combine fit results from all spaxels.<a class=\"anchor\" id=\"chapter4\"></a>"
   ]
  },
  {
   "cell_type": "markdown",
   "metadata": {},
   "source": [
    "This routine takes all of the spaxels you fit and combines the line- and continuum-fitting results together. The outputs are saved into two files. This example assumes that the spaxels listed here in each dimension have been fit."
   ]
  },
  {
   "cell_type": "code",
   "execution_count": null,
   "metadata": {},
   "outputs": [],
   "source": [
    "q3di = np.load(os.path.join(initdir, 'q3di.npy'), allow_pickle=True).item()\n",
    "cols = [12,35]\n",
    "rows = [16,35]\n",
    "from q3dfit.q3dcollect import q3dcollect\n",
    "q3dcollect(q3di, cols=cols, rows=rows, compsortpar='sigma', compsortdir='down')"
   ]
  },
  {
   "cell_type": "markdown",
   "metadata": {},
   "source": [
    "## 5. Plot science products. <a class=\"anchor\" id=\"chapter5\"></a>"
   ]
  },
  {
   "cell_type": "markdown",
   "metadata": {},
   "source": [
    "These routines take the output of `q3dcollect` and process them further for science output. The `q3dpro` class has methods to make maps of physical quantities."
   ]
  },
  {
   "cell_type": "code",
   "execution_count": null,
   "metadata": {},
   "outputs": [],
   "source": [
    "import q3dfit.q3dpro as q3dpro\n",
    "qpro = q3dpro.Q3Dpro(q3di, NOCONT=True)"
   ]
  },
  {
   "cell_type": "markdown",
   "metadata": {},
   "source": [
    "Start by plotting linemaps for [SIV], of both flux and velocity measures. The parameters listed below control the plotting."
   ]
  },
  {
   "cell_type": "code",
   "execution_count": null,
   "metadata": {},
   "outputs": [],
   "source": [
    "do_kpc = False\n",
    "saveFile = False\n",
    "flx = [1e-1,1e2]\n",
    "qsocenter = [23.,27.]\n",
    "pltarg = {'Ftot':flx,\n",
    "          'Fci':flx,\n",
    "          'Sig':[100.,850.],\n",
    "          'v50':[-800.,800.],\n",
    "          'w80':[100.,850.],\n",
    "          'fluxlog': True}\n",
    "qpro.make_linemap('[SIV]10.51', XYSTYLE=do_kpc, xyCenter=qsocenter,\n",
    "                  SAVEDATA=saveFile, VMINMAX=pltarg, PLTNUM=1, CMAP='inferno')"
   ]
  },
  {
   "cell_type": "markdown",
   "metadata": {},
   "source": [
    "Map of v50 over the cumulative velocity distribution:"
   ]
  },
  {
   "cell_type": "code",
   "execution_count": null,
   "metadata": {},
   "outputs": [],
   "source": [
    "from q3dfit.q3dpro import OneLineData\n",
    "s4data = OneLineData(qpro.linedat, '[SIV]10.51')\n",
    "s4data.calc_cvdf(q3di.zsys_gas, [-1.5e3, 1.5e3], vstep=5)\n",
    "s4data.make_cvdf_map(50., velran=[-1e3, 1e3], markcenter=[23.,27.],\n",
    "                     outfile=True)"
   ]
  },
  {
   "cell_type": "markdown",
   "metadata": {},
   "source": [
    "Map of W80 over the cumulative velocity distribution:"
   ]
  },
  {
   "cell_type": "code",
   "execution_count": null,
   "metadata": {},
   "outputs": [],
   "source": [
    "import matplotlib.pyplot as plt\n",
    "fig = plt.figure(figsize=[6,4.5])\n",
    "plt.imshow(s4data.calc_cvdf_vel(90, calc_from_posvel=False).T - s4data.calc_cvdf_vel(10, calc_from_posvel=False).T, \n",
    "       origin='lower', cmap='bwr', vmin=50, vmax=1500)\n",
    "plt.colorbar()"
   ]
  },
  {
   "cell_type": "markdown",
   "metadata": {},
   "source": [
    "## 6. Output science products to FITS files. <a class=\"anchor\" id=\"chapter6\"></a>"
   ]
  },
  {
   "cell_type": "markdown",
   "metadata": {},
   "source": [
    "Export [SIV] map to a fits file:"
   ]
  },
  {
   "cell_type": "code",
   "execution_count": null,
   "metadata": {},
   "outputs": [],
   "source": [
    "from q3dfit.q3dpro import save_to_fits\n",
    "import copy\n",
    "from astropy.io import fits\n",
    "from photutils import centroids\n",
    "\n",
    "cube_sum = np.sum(np.nan_to_num(cube.dat), axis=2).T\n",
    "\n",
    "# get center\n",
    "x1, y1 = centroids.centroid_2dg(cube_sum)\n",
    "center_xy = [x1, y1]\n",
    "\n",
    "# 2d header\n",
    "newhead = copy.copy(cube.header_dat)\n",
    "newhead['WCSAXES'] = 2\n",
    "del newhead['CRPIX3']\n",
    "del newhead['CRVAL3']\n",
    "del newhead['CTYPE3']\n",
    "del newhead['CUNIT3']\n",
    "del newhead['CDELT3']\n",
    "del newhead['PC1_3']\n",
    "del newhead['PC2_3']\n",
    "del newhead['PC3_1']\n",
    "del newhead['PC3_2']\n",
    "del newhead['PC3_3']\n",
    "# new header\n",
    "newhead['CRPIX1'] = x1+1.\n",
    "newhead['CRPIX2'] = y1+1.\n",
    "# Quasar centroid from SDSS\n",
    "newhead['CRVAL1'] = 166.701361941\n",
    "newhead['CRVAL2'] = 48.120086325\n",
    "print(x1,y1)\n",
    "\n",
    "newhead['BUNIT'] = 'erg/(s cm2 arcsec2)'\n",
    "\n",
    "s4ftot = qpro.linedat.get_flux('[SIV]10.51')['flux']\n",
    "s4ftot[s4ftot != np.nan] *= cube.fluxnorm/newhead['PIXAR_A2']\n",
    "\n",
    "s4ftoterr = qpro.linedat.get_flux('[SIV]10.51')['fluxerr']\n",
    "s4ftoterr[s4ftoterr != np.nan] *= cube.fluxnorm/newhead['PIXAR_A2']\n",
    "\n",
    "# velocity map\n",
    "s4v50 = s4data.calc_cvdf_vel(50, calc_from_posvel=False)\n",
    "\n",
    "# sigma map\n",
    "s4v84 = s4data.calc_cvdf_vel(84, calc_from_posvel=False)\n",
    "s4v16 = s4data.calc_cvdf_vel(16, calc_from_posvel=False)\n",
    "s4sig = s4v84 - s4v16\n",
    "\n",
    "# Export [SIV] data into single file\n",
    "s4file = os.path.join(outdir, 'f2m1106_miri_s4.fits')\n",
    "newhead['BUNIT'] = 'erg/(s cm2 arcsec2)'\n",
    "newhead['EXTNAME'] = 'FLUX'\n",
    "save_to_fits(s4ftot.T, newhead, s4file)\n",
    "newhead['EXTNAME'] = 'ERR_FLUX'\n",
    "fits.append(s4file, s4ftoterr.T, newhead)\n",
    "newhead['BUNIT'] = 'km/s'\n",
    "newhead['EXTNAME'] = 'V%50'\n",
    "fits.append(s4file, s4v50.T, newhead)\n",
    "newhead['EXTNAME'] = 'VSIG'\n",
    "fits.append(s4file, s4sig.T, newhead)"
   ]
  },
  {
   "cell_type": "markdown",
   "metadata": {},
   "source": [
    "Export line property maps by component"
   ]
  },
  {
   "cell_type": "code",
   "execution_count": null,
   "metadata": {},
   "outputs": [],
   "source": [
    "line = '[SIV]10.51'\n",
    "# No. of components\n",
    "s4ncomp = qpro.linedat.get_ncomp(line)\n",
    "s4file = os.path.join(outdir, 'f2m1106_miri_s4_bycomp.fits')\n",
    "newhead['EXTNAME'] = 'NCOMP'\n",
    "save_to_fits(s4ncomp.T,newhead,s4file)\n",
    "# Cycle through components\n",
    "for i in np.arange(q3di.maxncomp):\n",
    "\n",
    "    s4flx = qpro.linedat.get_flux(line,FLUXSEL=f'fc{i+1}')['flux']\n",
    "    s4flx[s4flx != np.nan] *= cube.fluxnorm/newhead['PIXAR_A2']\n",
    "    newhead['EXTNAME'] = f'FLX{i+1}'\n",
    "    newhead['BUNIT'] = 'erg/(s cm2 arcsec2)'\n",
    "    fits.append(s4file,s4flx.T,newhead)\n",
    "\n",
    "    s4flxerr = qpro.linedat.get_flux(line,FLUXSEL=f'fc{i+1}')['fluxerr']\n",
    "    s4flxerr[s4flxerr != np.nan] *= cube.fluxnorm/newhead['PIXAR_A2']\n",
    "    newhead['EXTNAME'] = f'ERR_FLX{i+1}'\n",
    "    fits.append(s4file,s4flxerr.T,newhead)\n",
    "\n",
    "    s4wav = qpro.linedat.get_wave(line,COMPSEL=i+1)['wav']\n",
    "    newhead['EXTNAME'] = f'WAV{i+1}'\n",
    "    newhead['BUNIT'] = 'micron'\n",
    "    fits.append(s4file,s4wav.T,newhead)\n",
    "\n",
    "    s4waverr = qpro.linedat.get_wave(line,COMPSEL=i+1)['waverr']\n",
    "    newhead['EXTNAME'] = f'ERR_WAV{i+1}'\n",
    "    fits.append(s4file,s4waverr.T,newhead)\n",
    "\n",
    "    s4sig = qpro.linedat.get_sigma(line,COMPSEL=i+1)['sig']\n",
    "    newhead['EXTNAME'] = f'SIG{i+1}'\n",
    "    newhead['BUNIT'] = 'km/s'\n",
    "    fits.append(s4file,s4sig.T,newhead)\n",
    "    \n",
    "    s4sigerr = qpro.linedat.get_sigma(line,COMPSEL=i+1)['sigerr']\n",
    "    newhead['EXTNAME'] = f'ERR_SIG{i+1}'\n",
    "    fits.append(s4file,s4sigerr.T,newhead)"
   ]
  }
 ],
 "metadata": {
  "kernelspec": {
   "display_name": "Python 3 (ipykernel)",
   "language": "python",
   "name": "python3"
  },
  "language_info": {
   "codemirror_mode": {
    "name": "ipython",
    "version": 3
   },
   "file_extension": ".py",
   "mimetype": "text/x-python",
   "name": "python",
   "nbconvert_exporter": "python",
   "pygments_lexer": "ipython3",
   "version": "3.12.7"
  }
 },
 "nbformat": 4,
 "nbformat_minor": 4
}
