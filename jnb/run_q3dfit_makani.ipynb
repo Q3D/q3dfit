{
 "cells": [
  {
   "cell_type": "markdown",
   "metadata": {},
   "source": [
    "<h1><font color='red'>This notebook is in development and not ready for public testing. </font></h1>\n"
   ]
  },
  {
   "cell_type": "markdown",
   "metadata": {},
   "source": [
    "# Run Q3Dfit from this Jupyter Notebook in a suitable environment."
   ]
  },
  {
   "cell_type": "markdown",
   "metadata": {},
   "source": [
    "<h3><font color='teal'>Installation of the environment and the package are described <a href=\"https://q3dfit.readthedocs.io/\">here</a>. </font></h3>"
   ]
  },
  {
   "cell_type": "markdown",
   "metadata": {},
   "source": [
    "This Jupyter notebook allows you to run Q3Dfit, a PSF decomposition and spectral analysis package tailored for JWST NIRSpec and MIRI IFU observations. \n",
    "\n",
    "Q3Dfit is developed as a science-enabling data product by the Early Release Science Team #1335 Q3D. You can find more information about this ERS program **Q3D** [here](https://wwwstaff.ari.uni-heidelberg.de/dwylezalek/q3d.html) and [here](https://www.stsci.edu/jwst/science-execution/approved-programs/dd-ers/program-1335).\n",
    "\n",
    "The software is based on the existing package IFSFIT developed by Dave Rupke (see [ADS link](https://ui.adsabs.harvard.edu/abs/2017ApJ...850...40R/abstract)).\n",
    "\n",
    "The following notebook will guide you through the initialization procedure and will then perform the analysis. "
   ]
  },
  {
   "cell_type": "markdown",
   "metadata": {},
   "source": [
    "## Table of Contents\n",
    "\n",
    "* [1. Initialization](#chapter1)\n",
    "    * [1.1. Setting up the directory tree](#chapter1_1)\n",
    "    * [1.2. Setting up the fitting parameters](#chapter1_2)        \n",
    "        * [1.2.3. Line ratio constraints](#chapter1_2_3)\n",
    "    * [1.3. Setting up the plotting parameters](#chapter1_3)        \n",
    "* [2. Run Q3Dfit](#chapter2)\n",
    "* [3. Run plotting script (q3da)](#chapter3)"
   ]
  },
  {
   "cell_type": "markdown",
   "metadata": {},
   "source": [
    "<font color='red'>We need to decide where the makeqsotemplate functionality goes. </font>"
   ]
  },
  {
   "cell_type": "markdown",
   "metadata": {},
   "source": [
    "## 1. Initialization <a class=\"anchor\" id=\"chapter1\"></a>"
   ]
  },
  {
   "cell_type": "code",
   "execution_count": null,
   "metadata": {},
   "outputs": [],
   "source": [
    "import os.path\n",
    "import numpy as np"
   ]
  },
  {
   "cell_type": "markdown",
   "metadata": {},
   "source": [
    "### 1.1. Setting up the directory tree <a class=\"anchor\" id=\"chapter1_1\"></a>\n",
    "\n",
    "Define the directories in which your data cube(s) that you want to analyse are stored and the output directories. We recommend creating a working directory that you name after your target, in which all outputs from Q3Dfit will be saved. "
   ]
  },
  {
   "cell_type": "code",
   "execution_count": null,
   "metadata": {},
   "outputs": [],
   "source": [
    "# book-keeping variables (optional; for this box only)\n",
    "#volume = '/Users/caroline/Documents/ARI-Heidelberg/Q3D/DATA/makani_SDSS/'\n",
    "volume = '' # base directory\n",
    "gal = 'makanisdss' # prefix label for output files\n",
    "\n",
    "# Input files\n",
    "infile = volume+'path/makanisdss.fits' # path + name of your input cube\n",
    "stellartemplates = volume+'path/makani_stelmod.npy'\n",
    "\n",
    "# Output directories/files\n",
    "outdir = volume+'path/makanisdss/' # path + name of directory for saving the output files\n",
    "path_to_npy_file = outdir # path for initproc.npy\n",
    "logfile = outdir+gal+'_fitlog.txt'"
   ]
  },
  {
   "cell_type": "markdown",
   "metadata": {},
   "source": [
    "Some general information about your cube:"
   ]
  },
  {
   "cell_type": "code",
   "execution_count": null,
   "metadata": {},
   "outputs": [],
   "source": [
    "ncols = 1\n",
    "nrows = 1\n",
    "fitrange = [0.3814, 0.9201]\n",
    "\n",
    "if not os.path.isfile(infile): print('Data cube not found.')"
   ]
  },
  {
   "cell_type": "markdown",
   "metadata": {},
   "source": [
    "### 1.2. Setting up the fitting parameters <a class=\"anchor\" id=\"chapter1_2\"></a>"
   ]
  },
  {
   "cell_type": "markdown",
   "metadata": {},
   "source": [
    "What lines do you want to fit? You can choose from the linelist <font color='red'>provide reference here</font>."
   ]
  },
  {
   "cell_type": "code",
   "execution_count": null,
   "metadata": {},
   "outputs": [],
   "source": [
    "lines0 = ['[NeV]3345', '[NeV]3426', 'HeII4686']\n",
    "lines1 = ['[OII]3726', '[OII]3729',\n",
    "          '[NeIII]3869', '[NeIII]3967',\n",
    "          '[OIII]4959', '[OIII]5007',\n",
    "          'Hgamma', 'Hdelta', 'Hepsilon']\n",
    "lines = lines0 + lines1"
   ]
  },
  {
   "cell_type": "markdown",
   "metadata": {},
   "source": [
    "How many components do you want to be fitted to the emission lines?"
   ]
  },
  {
   "cell_type": "code",
   "execution_count": null,
   "metadata": {},
   "outputs": [],
   "source": [
    "maxncomp = 2"
   ]
  },
  {
   "cell_type": "code",
   "execution_count": null,
   "metadata": {},
   "outputs": [],
   "source": [
    "# Initialize line ties, n_comps, z_inits, and sig_inits.\n",
    "linetie = dict()\n",
    "ncomp = dict()\n",
    "zinit_gas = dict()\n",
    "siginit_gas = dict()\n",
    "for i in lines0:\n",
    "    linetie[i] = '[NeV]3426'\n",
    "    ncomp[i] = np.full((ncols, nrows), 1)\n",
    "    zinit_gas[i] = np.full((ncols, nrows,  maxncomp), 0.45666)\n",
    "    siginit_gas[i] = np.full(maxncomp, 100)\n",
    "for i in lines1:\n",
    "    linetie[i] = '[OII]3729'\n",
    "    ncomp[i] = np.full((ncols, nrows), maxncomp)\n",
    "    zinit_gas[i] = np.full((ncols, nrows, maxncomp), 0.45915)\n",
    "    zinit_gas[i][:, :, 1] = 0.45737\n",
    "    siginit_gas[i] = np.full(maxncomp, 100)\n",
    "\n",
    "zinit_stars = np.full((ncols, nrows), 0.459)"
   ]
  },
  {
   "cell_type": "markdown",
   "metadata": {},
   "source": [
    "`siglim_gas` sets lower and upper bounds for the Gaussian width (sigma) of the emission line. These limits can be set globablly, for all spaxels and components, by defining a 2-element array. The limits can also be set for individual spaxels (but all components) by defining an (Ncol x Nrow x 2) array."
   ]
  },
  {
   "cell_type": "code",
   "execution_count": null,
   "metadata": {},
   "outputs": [],
   "source": [
    "# Global limit\n",
    "siglim_gas = np.array([5., 1500.])\n",
    "\n",
    "# Spaxel-by-spaxel limit\n",
    "# siglim_gas = np.ndarray((dx, dy, 2))\n",
    "# siglim_gas[:,:,] = array([5.,1000.])\n",
    "# siglim_gas[13, 10, :] = array([5.,500.])"
   ]
  },
  {
   "cell_type": "markdown",
   "metadata": {},
   "source": [
    "Description of continuum fitting parameters"
   ]
  },
  {
   "cell_type": "code",
   "execution_count": null,
   "metadata": {},
   "outputs": [],
   "source": [
    "fcncontfit = 'ppxf'\n",
    "argscontfit = dict()\n",
    "argscontfit['siginit_stars'] = 50"
   ]
  },
  {
   "cell_type": "markdown",
   "metadata": {},
   "source": [
    "#### 1.2.3. Line ratio constraints <a class=\"anchor\" id=\"chapter1_2_3\"></a>\n",
    "`line1`, `line2`, and `comp` are required. `value` is the initial value of `line1`/`line2`, and `lower` and `upper` limits can also be specified. (If they are not, and the line pair is a doublet in the doublets.tbl file, then the lower and upper limits are set using the data in that file.) The ratio can also be `fixed`."
   ]
  },
  {
   "cell_type": "code",
   "execution_count": null,
   "metadata": {},
   "outputs": [],
   "source": [
    "# Required columns:\n",
    "line1 = ['[OII]3729', '[OII]3729']\n",
    "line2 = ['[OII]3726', '[OII]3726']\n",
    "comp = np.array([0, 1], dtype=np.int32)\n",
    "\n",
    "# Optional columns:\n",
    "value = [1.2, 1.2]\n",
    "fixed = [True, True]\n",
    "# lower = []\n",
    "# upper = []\n",
    "\n",
    "# Write table\n",
    "from astropy.table import QTable\n",
    "lineratio = QTable([line1, line2, comp, value, fixed], names=['line1', 'line2', 'comp', 'value', 'fixed'])"
   ]
  },
  {
   "cell_type": "markdown",
   "metadata": {},
   "source": [
    "### 1.3. Setting up the plotting parameters <a class=\"anchor\" id=\"chapter1_3\"></a>"
   ]
  },
  {
   "cell_type": "markdown",
   "metadata": {},
   "source": [
    "One dictionary must be defined for a line plot to appear. `argspltlin1` holds the options for the first line plot, and `argspltlin2` is for the second. Parameter options are fed in as keyword/data pairs.\n",
    "\n",
    "Required keywords in each dictionary:\n",
    "* `nx`: Number of subplots in the horizontal direction\n",
    "* `ny`: Number of subplots in the vertical direction\n",
    "* Options for centerting the plot:\n",
    "    - `line`: a string list of line labels\n",
    "    - `center_obs`: a float list of wavelengths of each subplot center, in the observed (plotted) frame\n",
    "    - `center_rest`: a float list of wavelengths of each subplot center, in the rest frame, which are converted to obs. frame\n",
    "\n",
    "Optional keywords:\n",
    "* `size`: float list of widths in wavelength space of each subplot; if not specified, default is 300 $\u00c5$\n",
    "* `IR`: set to `True` to use infrared-style plot"
   ]
  },
  {
   "cell_type": "code",
   "execution_count": null,
   "metadata": {},
   "outputs": [],
   "source": [
    "argspltlin1 = {'nx': 3,\n",
    "               'ny': 2,\n",
    "               'line': ['[NeV]3426', '[OII]3726', '[NeIII]3869', 'Hgamma', 'HeII4686', '[OIII]4959'],\n",
    "               'size': [0.025, 0.025, 0.025, 0.025, 0.025, 0.040]}"
   ]
  },
  {
   "cell_type": "markdown",
   "metadata": {},
   "source": [
    "The following cell will create the initialisation structure. **Do not change anything in this cell.** "
   ]
  },
  {
   "cell_type": "code",
   "execution_count": null,
   "metadata": {},
   "outputs": [],
   "source": [
    "initproc = { \\\n",
    "            # Required pars\n",
    "            'fitran': fitrange,\n",
    "            'fluxunits': 1e-17,\n",
    "            'infile': infile,\n",
    "            'label': gal,\n",
    "            'lines': lines,\n",
    "            'linetie': linetie,\n",
    "            'maxncomp': maxncomp,\n",
    "            'name': 'Makani',\n",
    "            'ncomp': ncomp,\n",
    "            'outdir': outdir,\n",
    "            'zinit_stars': zinit_stars,\n",
    "            'zinit_gas': zinit_gas,\n",
    "            'zsys_gas': 0.459,\n",
    "            # Optional pars\n",
    "            'datext': 0,\n",
    "            'varext': 1,\n",
    "            'dqext': 2,\n",
    "            'argscheckcomp': {'sigcut': 2},\n",
    "            'fcncontfit': fcncontfit,\n",
    "            'argscontfit': argscontfit,\n",
    "            'argsreadcube': {'wmapext': None,\n",
    "                             'waveunit_in': 'Angstrom',\n",
    "                             'fluxunit_in': 'erg/s/cm2/Angstrom/sr'},\n",
    "            'argslinelist': {'vacuum': False},\n",
    "            'argscontplot': {'xstyle':'lin',\n",
    "                             'ystyle':'lin',\n",
    "                             'waveunit_out': 'Angstrom',\n",
    "                             'fluxunit_in':'flambda',\n",
    "                             'fluxunit_out':'flambda',\n",
    "                             'mode':'dark'},\n",
    "            'argsinitpar': {'siglim': siglim_gas,\n",
    "                            'lineratio': lineratio},\n",
    "            'startempfile': stellartemplates,\n",
    "            'argspltlin1': argspltlin1,\n",
    "            'fcncheckcomp': 'checkcomp',\n",
    "            'maskwidths_def': 2000,\n",
    "            'emlsigcut': 2,\n",
    "            'logfile': logfile,\n",
    "            'siglim_gas': siglim_gas,\n",
    "            'siginit_gas': siginit_gas,\n",
    "            'siginit_stars': 50,\n",
    "            'nocvdf': 1\n",
    "        }"
   ]
  },
  {
   "cell_type": "markdown",
   "metadata": {},
   "source": [
    "If you want to run q3dfit in batch mode, run this cell, which saves initproc to an \"npy\" file. In your python command line, read in that \"npy\" file with <pre><code> initproc = np.load('path/to/the/npy/file/initproc.npy', allow_pickle=True) </code></pre> and then run q3dfit with <pre><code> q3df(initproc[()],cols=cols,rows=rows) </code></pre>"
   ]
  },
  {
   "cell_type": "code",
   "execution_count": null,
   "metadata": {},
   "outputs": [],
   "source": [
    "initproc_npy = 'initproc.npy'\n",
    "np.save(path_to_npy_file+initproc_npy,initproc)"
   ]
  },
  {
   "cell_type": "markdown",
   "metadata": {},
   "source": [
    "## 2. Run Q3Dfit <a class=\"anchor\" id=\"chapter2\"></a>"
   ]
  },
  {
   "cell_type": "code",
   "execution_count": null,
   "metadata": {},
   "outputs": [],
   "source": [
    "# This may be unique to the user, insert your path to the q3dfit/ folder here\n",
    "import sys\n",
    "if '../../' not in sys.path:\n",
    "    sys.path.append('../../')\n",
    "\n",
    "from q3dfit.common.q3df import q3df\n",
    "from q3dfit.common.q3da import q3da"
   ]
  },
  {
   "cell_type": "code",
   "execution_count": null,
   "metadata": {},
   "outputs": [],
   "source": [
    "q3df(initproc, quiet=False)"
   ]
  },
  {
   "cell_type": "markdown",
   "metadata": {},
   "source": [
    "## 3. Run plotting script (q3da) <a class=\"anchor\" id=\"chapter3\"></a>"
   ]
  },
  {
   "cell_type": "markdown",
   "metadata": {},
   "source": [
    "Inline plotting:"
   ]
  },
  {
   "cell_type": "code",
   "execution_count": null,
   "metadata": {},
   "outputs": [],
   "source": [
    "%matplotlib inline\n",
    "q3da(initproc)"
   ]
  },
  {
   "cell_type": "markdown",
   "metadata": {},
   "source": [
    "Plots in an external, interactive window:"
   ]
  },
  {
   "cell_type": "code",
   "execution_count": null,
   "metadata": {},
   "outputs": [],
   "source": [
    "%matplotlib\n",
    "q3da(initproc)"
   ]
  }
 ],
 "metadata": {
  "kernelspec": {
   "display_name": "JWebbinar",
   "language": "python",
   "name": "jwebbinar"
  },
  "language_info": {
   "codemirror_mode": {
    "name": "ipython",
    "version": 3
   },
   "file_extension": ".py",
   "mimetype": "text/x-python",
   "name": "python",
   "nbconvert_exporter": "python",
   "pygments_lexer": "ipython3",
   "version": "3.8.12"
  }
 },
 "nbformat": 4,
 "nbformat_minor": 4
}