{
 "cells": [
  {
   "cell_type": "markdown",
   "metadata": {},
   "source": [
    "# Run Q3Dfit from this Jupyter Notebook in Astroconda Environment."
   ]
  },
  {
   "cell_type": "markdown",
   "metadata": {},
   "source": [
    "This Jupyter notebook allows you to run Q3Dfit, a PSF decomposition and spectral analysis package tailored for JWST NIRSpec and MIRI IFU observations. \n",
    "\n",
    "Q3Dfit is developed as a science-enabling data product by the Early Release Science Team #1335 Q3D. You can find more information about this ERS program **Q3D** [here](https://wwwstaff.ari.uni-heidelberg.de/dwylezalek/q3d.html) and [here](https://www.stsci.edu/jwst/science-execution/approved-programs/dd-ers/program-1335).\n",
    "\n",
    "The software is based on the existing package IFSFIT developed by Dave Rupke (see [ADS link](https://ui.adsabs.harvard.edu/abs/2017ApJ...850...40R/abstract)).\n",
    "\n",
    "The following notebook will guide you through the initialization procedure and will then perform the analysis. "
   ]
  },
  {
   "cell_type": "markdown",
   "metadata": {},
   "source": [
    "## Table of Contents\n",
    "\n",
    "* [1. Initialization](#chapter1)\n",
    "    * [1.1. Setting up the directory tree](#chapter1_1)\n",
    "    * [1.2. Setting up the fitting parameters](#chapter1_2)\n",
    "        * [1.2.3. Line ratio constraints](#chapter1_2_3)\n",
    "    * [1.3. Setting up the plotting parameters](#chapter1_3)\n",
    "* [2. Run Q3Dfit](#chapter2)\n",
    "* [3. Run plotting script (q3da)](#chapter3)"
   ]
  },
  {
   "cell_type": "markdown",
   "metadata": {},
   "source": [
    "## 1. Initialization <a class=\"anchor\" id=\"chapter1\"></a>"
   ]
  },
  {
   "cell_type": "code",
   "execution_count": null,
   "metadata": {},
   "outputs": [],
   "source": [
    "import os.path\n",
    "import numpy as np"
   ]
  },
  {
   "cell_type": "code",
   "execution_count": null,
   "metadata": {},
   "outputs": [],
   "source": [
    "# Convenience function\n",
    "# Ref: https://github.com/spacetelescope/jwebbinar_prep/blob/main/imaging_mode/imaging_mode_stage_1.ipynb\n",
    "from astropy.utils.data import download_file\n",
    "def download_files(files, output_directory, force=False):\n",
    "    \"\"\"Given a tuple or list of tuples containing (URL, filename),\n",
    "    download the given files into the current working directory.\n",
    "    Downloading is done via astropy's download_file. A symbolic link\n",
    "    is created in the specified output dirctory that points to the\n",
    "    downloaded file.\n",
    "    \n",
    "    Parameters\n",
    "    ----------\n",
    "    files : tuple or list of tuples\n",
    "        Each 2-tuple should contain (URL, filename), where\n",
    "        URL is the URL from which to download the file, and\n",
    "        filename will be the name of the symlink pointing to\n",
    "        the downloaded file.\n",
    "        \n",
    "    output_directory : str\n",
    "        Name of the directory in which to create the symbolic\n",
    "        links to the downloaded files\n",
    "        \n",
    "    force : bool\n",
    "        If True, the file will be downloaded regarless of whether\n",
    "        it is already present or not.\n",
    "                \n",
    "    Returns\n",
    "    -------\n",
    "    filenames : list\n",
    "        List of filenames corresponding to the symbolic links\n",
    "        of the downloaded files\n",
    "    \"\"\"\n",
    "    # In the case of a single input tuple, make it a\n",
    "    # 1 element list, for consistency.\n",
    "    filenames = []\n",
    "    if isinstance(files, tuple):\n",
    "        files = [files]\n",
    "        \n",
    "    for file in files:\n",
    "        filenames.append(file[1])\n",
    "        if force:\n",
    "            print('Downloading {}...'.format(file[1]))\n",
    "            demo_file = download_file(file[0], cache='update')\n",
    "            # Make a symbolic link using a local name for convenience\n",
    "            if not os.path.islink(os.path.join(output_directory, file[1])):\n",
    "                os.symlink(demo_file, os.path.join(output_directory, file[1]))\n",
    "        else:\n",
    "            if not os.path.isfile(os.path.join(output_directory, file[1])):\n",
    "                print('Downloading {}...'.format(file[1]))\n",
    "                demo_file = download_file(file[0], cache=True)\n",
    "                # Make a symbolic link using a local name for convenience\n",
    "                os.symlink(demo_file, os.path.join(output_directory, file[1]))\n",
    "            else:\n",
    "                print('{} already exists, skipping download...'.format(file[1]))\n",
    "                continue\n",
    "    return filenames    "
   ]
  },
  {
   "cell_type": "markdown",
   "metadata": {},
   "source": [
    "### 1.1. Setting up the directory tree <a class=\"anchor\" id=\"chapter1_1\"></a>\n",
    "\n",
    "Define the output directories. We recommend creating a working directory that you name after your target, in which all outputs from Q3Dfit will be saved. "
   ]
  },
  {
   "cell_type": "code",
   "execution_count": null,
   "metadata": {},
   "outputs": [],
   "source": [
    "# book-keeping variables (optional; for this box only)\n",
    "volume = 'nirspec-etc/'\n",
    "gal = 'nirspec-etc' # prefix label for output files\n",
    "\n",
    "# Output directories/files\n",
    "outdir = volume+'' # path + name of directory for saving the output files\n",
    "path_to_npy_file = volume+'' # path for initproc.npy\n",
    "logfile = outdir+gal+'_fitlog.txt'"
   ]
  },
  {
   "cell_type": "code",
   "execution_count": null,
   "metadata": {},
   "outputs": [],
   "source": [
    "# make subdirectory to hold data\n",
    "if not os.path.exists(gal):\n",
    "    os.makedirs(gal)\n",
    "    \n",
    "infile_tup=('https://rhodes.box.com/shared/static/ob0l4nzlzw5aif0l7700bywxh115hd9w.fits','nirspec-etc-simulation.fits')\n",
    "infile = download_files(infile_tup, outdir, force=True)[0]\n",
    "# add subdirectory to filenames\n",
    "infile = outdir+infile"
   ]
  },
  {
   "cell_type": "markdown",
   "metadata": {},
   "source": [
    "Some general information about your cube:\n",
    "\n",
    "argsreadcube is a dictionary of attributes sent to the CUBE class"
   ]
  },
  {
   "cell_type": "code",
   "execution_count": null,
   "metadata": {},
   "outputs": [],
   "source": [
    "argsreadcube = {'wmapext': None,\n",
    "                'waveunit_in': 'micron',\n",
    "                'fluxunit_in': ''}\n",
    "\n",
    "if not os.path.isfile(infile): \n",
    "    print('Data cube not found.')\n",
    "else:\n",
    "    from q3dfit.common.readcube import CUBE\n",
    "    cube = CUBE(infile=infile, **argsreadcube)\n",
    "    ncols = cube.ncols # number of columns\n",
    "    nrows = cube.nrows # number of rows"
   ]
  },
  {
   "cell_type": "markdown",
   "metadata": {},
   "source": [
    "Wavelength range over which to fit data and the range of wavelength to ignore:"
   ]
  },
  {
   "cell_type": "code",
   "execution_count": null,
   "metadata": {},
   "outputs": [],
   "source": [
    "fitrange = [0.98,1.80] #in um\n",
    "cutrange = np.array([1.4133,1.4743])"
   ]
  },
  {
   "cell_type": "markdown",
   "metadata": {},
   "source": [
    "\n",
    "Generating the quasar template used for PSF subtraction:\n"
   ]
  },
  {
   "cell_type": "code",
   "execution_count": null,
   "metadata": {},
   "outputs": [],
   "source": [
    "from q3dfit.common import makeqsotemplate\n",
    "qsotemplate = volume+'nirspec_ETC_QSO.npy' \n",
    "makeqsotemplate.makeqsotemplate(infile,qsotemplate,waveunit_out='micron',wmapext=None)"
   ]
  },
  {
   "cell_type": "markdown",
   "metadata": {},
   "source": [
    "### 1.2. Setting up the fitting parameters <a class=\"anchor\" id=\"chapter1_2\"></a>"
   ]
  },
  {
   "cell_type": "markdown",
   "metadata": {},
   "source": [
    "What lines do you want to fit? You can choose from the linelist <font color='red'>provide reference here</font>."
   ]
  },
  {
   "cell_type": "code",
   "execution_count": null,
   "metadata": {},
   "outputs": [],
   "source": [
    "lines = ['Halpha', 'Hbeta', '[OIII]4959', '[OIII]5007']\n",
    "zsys_gas = 1.489"
   ]
  },
  {
   "cell_type": "markdown",
   "metadata": {},
   "source": [
    "How many components do you want to be fitted to the emission lines?"
   ]
  },
  {
   "cell_type": "code",
   "execution_count": null,
   "metadata": {},
   "outputs": [],
   "source": [
    "maxncomp = 1"
   ]
  },
  {
   "cell_type": "code",
   "execution_count": null,
   "metadata": {},
   "outputs": [],
   "source": [
    "# Initialize line ties, n_comps, z_inits, and sig_inits.\n",
    "linetie = dict()\n",
    "ncomp = dict()\n",
    "zinit_gas = dict()\n",
    "siginit_gas = dict()\n",
    "for i in lines:\n",
    "    linetie[i] = 'Halpha'\n",
    "    ncomp[i] = np.full((ncols,nrows),maxncomp)\n",
    "    zinit_gas[i] = np.full((ncols,nrows,maxncomp),1.489)\n",
    "    siginit_gas[i] = np.full(maxncomp,50.)"
   ]
  },
  {
   "cell_type": "markdown",
   "metadata": {},
   "source": [
    "`siglim_gas` sets lower and upper bounds for the Gaussian width (sigma) of the emission line. These limits can be set globablly, for all spaxels and components, by defining a 2-element array. The limits can also be set for individual spaxels (but all components) by defining an (Ncol x Nrow x 2) array."
   ]
  },
  {
   "cell_type": "code",
   "execution_count": null,
   "metadata": {},
   "outputs": [],
   "source": [
    "# Global limit\n",
    "siglim_gas = np.array([5., 500.])\n",
    "\n",
    "# Spaxel-by-spaxel limit\n",
    "# siglim_gas = np.ndarray((dx, dy, 2))\n",
    "# siglim_gas[:,:,] = array([5.,1000.])\n",
    "# siglim_gas[13, 10, :] = array([5.,500.])"
   ]
  },
  {
   "cell_type": "markdown",
   "metadata": {},
   "source": [
    "Description of continuum fitting parameters:\n",
    "- `hostord` = [Optional] additive Legendre polynomial for host [starlight] component. Adds components up to order `hostord`. 0 < hostord < 4\n",
    "- `qsoord` = [Optional] additive Legendre polynomial for host [starlight] component. Adds components up to order `qsoord`. 0 < hostord < 4"
   ]
  },
  {
   "cell_type": "code",
   "execution_count": null,
   "metadata": {},
   "outputs": [],
   "source": [
    "fcncontfit = 'fitqsohost'\n",
    "argscontfit = dict()\n",
    "#argscontfit['blrpar'] = [0., 1.6400, 0.5000/299792.*1.6400,\n",
    "#                         0., 1.2150, 0.5000/299792.*1.2150]\n",
    "argscontfit['qsoxdr'] = qsotemplate\n",
    "argscontfit['qsoord'] = 10\n",
    "argscontfit['hostord'] = 10\n",
    "#argscontfit['refit'] = 'ppxf'"
   ]
  },
  {
   "cell_type": "markdown",
   "metadata": {},
   "source": [
    "#### 1.2.3. Line ratio constraints <a class=\"anchor\" id=\"chapter1_2_3\"></a>\n",
    "`line1`, `line2`, and `comp` are required. `value` is the initial value of `line1`/`line2`, and `lower` and `upper` limits can also be specified. (If they are not, and the line pair is a doublet in the doublets.tbl file, then the lower and upper limits are set using the data in that file.) The ratio can also be `fixed`."
   ]
  },
  {
   "cell_type": "code",
   "execution_count": null,
   "metadata": {},
   "outputs": [],
   "source": [
    "# Required columns:\n",
    "#line1 = ['[NI]5198']\n",
    "#line2 = ['[NI]5200']\n",
    "#comp = np.array([0], dtype=np.int32)\n",
    "\n",
    "# Optional columns:\n",
    "#value = [1.5]\n",
    "#fixed = [True]\n",
    "# lower = []\n",
    "# upper = []\n",
    "\n",
    "# Write table\n",
    "#from astropy.table import QTable\n",
    "#lineratio = QTable([line1, line2, comp, value, fixed], names=['line1', 'line2', 'comp', 'value', 'fixed'])"
   ]
  },
  {
   "cell_type": "markdown",
   "metadata": {},
   "source": [
    "### 1.3. Setting up the plotting parameters <a class=\"anchor\" id=\"chapter1_3\"></a>"
   ]
  },
  {
   "cell_type": "markdown",
   "metadata": {},
   "source": [
    "One dictionary must be defined for a line plot to appear. `argspltlin1` holds the options for the first line plot, and `argspltlin2` is for the second. Parameter options are fed in as keyword/data pairs.\n",
    "\n",
    "Required keywords in each dictionary:\n",
    "* `nx`: Number of subplots in the horizontal direction\n",
    "* `ny`: Number of subplots in the vertical direction\n",
    "* Options for centerting the plot:\n",
    "    - `line`: a string list of line labels\n",
    "    - `center_obs`: a float list of wavelengths of each subplot center, in the observed (plotted) frame\n",
    "    - `center_rest`: a float list of wavelengths of each subplot center, in the rest frame, which are converted to obs. frame\n",
    "\n",
    "Optional keywords:\n",
    "* `size`: float list of widths in wavelength space of each subplot; if not specified, default is 300 $Å$\n",
    "* `IR`: set to `True` to use infrared-style plot"
   ]
  },
  {
   "cell_type": "code",
   "execution_count": null,
   "metadata": {},
   "outputs": [],
   "source": [
    "argspltlin1 = {'nx': 3,\n",
    "               'ny': 1,\n",
    "               'line': ['Hbeta', '[OIII]5007', 'Halpha'],\n",
    "               'size': [0.05, 0.05, 0.05]}\n",
    "\n",
    "argscontplot = {'xstyle': 'lin',\n",
    "                'ystyle': 'lin',\n",
    "                'fluxunit_in': 'flambda',\n",
    "                'fluxunit_out': 'flambda',\n",
    "                'mode': 'dark'}"
   ]
  },
  {
   "cell_type": "markdown",
   "metadata": {},
   "source": [
    "The following cell will create the initialisation structure. **Do not change anything in this cell.** "
   ]
  },
  {
   "cell_type": "code",
   "execution_count": null,
   "metadata": {},
   "outputs": [],
   "source": [
    "q3di = { \\\n",
    "        # Required pars\n",
    "        'fitran': fitrange,\n",
    "        'fluxunits': 1,\n",
    "        'infile': infile,\n",
    "        'label': gal,\n",
    "        'lines': lines,\n",
    "        'linetie': linetie,\n",
    "        'maxncomp': maxncomp,\n",
    "        'name': gal,\n",
    "        'ncomp': ncomp,\n",
    "        'outdir': outdir,\n",
    "        'zinit_gas': zinit_gas,\n",
    "        'zsys_gas': zsys_gas,\n",
    "        # Optional pars\n",
    "        'argscheckcomp': {'sigcut': 3},\n",
    "        'fcncontfit': fcncontfit,\n",
    "        'argscontfit': argscontfit,\n",
    "        'argscontplot': argscontplot,\n",
    "        'argsreadcube': argsreadcube,\n",
    "        'argspltlin1': argspltlin1,\n",
    "        #'decompose_qso_fit': 1,\n",
    "        #'remove_scattered': 1,\n",
    "        'fcncheckcomp': 'checkcomp',\n",
    "        'maskwidths_def': 500.,\n",
    "        'emlsigcut': 2,\n",
    "        'logfile': logfile,\n",
    "        'siglim_gas': siglim_gas,\n",
    "        'siginit_gas': siginit_gas,\n",
    "        'cutrange': cutrange,\n",
    "        'nocvdf': 1,\n",
    "    }"
   ]
  },
  {
   "cell_type": "markdown",
   "metadata": {},
   "source": [
    "If you want to run `q3dfit` in batch mode, run this cell, which saves initproc to an `npy` file. In your python command line, read in that `npy` file with\n",
    "<pre><code>import numpy as np\n",
    "initproc = np.load('path/to/the/npy/file/initproc.npy',allow_pickle=True)</code></pre>\n",
    "and then run `q3dfit` with \n",
    "<pre><code>from q3dfit.common.q3df\n",
    "import q3df q3df(initproc[()],cols=cols,rows=rows)</code></pre>"
   ]
  },
  {
   "cell_type": "code",
   "execution_count": null,
   "metadata": {},
   "outputs": [],
   "source": [
    "q3di_npy = 'q3di.npy'\n",
    "np.save(path_to_npy_file+q3di_npy,q3di)"
   ]
  },
  {
   "cell_type": "markdown",
   "metadata": {},
   "source": [
    "## 2. Run Q3Dfit <a class=\"anchor\" id=\"chapter2\"></a>"
   ]
  },
  {
   "cell_type": "code",
   "execution_count": null,
   "metadata": {},
   "outputs": [],
   "source": [
    "# This may be unique to the user, insert your path to the q3dfit/ folder here\n",
    "import sys\n",
    "if '../../' not in sys.path:\n",
    "    sys.path.append('../../')\n",
    "\n",
    "from q3dfit.common.q3df import q3df\n",
    "from q3dfit.common.q3da import q3da"
   ]
  },
  {
   "cell_type": "code",
   "execution_count": null,
   "metadata": {},
   "outputs": [],
   "source": [
    "cols = 13\n",
    "rows = 20"
   ]
  },
  {
   "cell_type": "code",
   "execution_count": null,
   "metadata": {},
   "outputs": [],
   "source": [
    "q3df(q3di,cols=cols,rows=rows)"
   ]
  },
  {
   "cell_type": "markdown",
   "metadata": {},
   "source": [
    "## 3. Run plotting script (q3da) <a class=\"anchor\" id=\"chapter3\"></a>"
   ]
  },
  {
   "cell_type": "markdown",
   "metadata": {},
   "source": [
    "Inline plotting:"
   ]
  },
  {
   "cell_type": "code",
   "execution_count": null,
   "metadata": {},
   "outputs": [],
   "source": [
    "%matplotlib notebook\n",
    "q3da(q3di,cols=cols,rows=rows)"
   ]
  },
  {
   "cell_type": "markdown",
   "metadata": {},
   "source": [
    "Plots in an external, interactive window:"
   ]
  },
  {
   "cell_type": "code",
   "execution_count": null,
   "metadata": {},
   "outputs": [],
   "source": [
    "%matplotlib\n",
    "q3da(q3di,cols=cols,rows=rows)"
   ]
  },
  {
   "cell_type": "code",
   "execution_count": null,
   "metadata": {},
   "outputs": [],
   "source": []
  }
 ],
 "metadata": {
  "kernelspec": {
   "display_name": "Python 3",
   "language": "python",
   "name": "python3"
  },
  "language_info": {
   "codemirror_mode": {
    "name": "ipython",
    "version": 3
   },
   "file_extension": ".py",
   "mimetype": "text/x-python",
   "name": "python",
   "nbconvert_exporter": "python",
   "pygments_lexer": "ipython3",
   "version": "3.7.9"
  }
 },
 "nbformat": 4,
 "nbformat_minor": 4
}
