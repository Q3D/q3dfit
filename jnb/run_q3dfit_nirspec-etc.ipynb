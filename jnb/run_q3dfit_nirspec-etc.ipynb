{
 "cells": [
  {
   "cell_type": "markdown",
   "metadata": {},
   "source": [
    "# q3dfit example notebook: rest frame optical, mock NIRSpec ETC cube of quasar"
   ]
  },
  {
   "cell_type": "markdown",
   "metadata": {},
   "source": [
    "<h3><font color='teal'>Installation of the environment and the package are described <a href=\"https://q3dfit.readthedocs.io/\">here</a>. </font></h3>"
   ]
  },
  {
   "cell_type": "markdown",
   "metadata": {},
   "source": [
    "This Jupyter notebook allows you to run Q3Dfit, a PSF decomposition and spectral analysis package tailored for JWST NIRSpec and MIRI IFU observations. \n",
    "\n",
    "Q3Dfit is developed as a science-enabling data product by the Early Release Science Team #1335 Q3D. You can find more information about this ERS program **Q3D** [here](https://wwwstaff.ari.uni-heidelberg.de/dwylezalek/q3d.html) and [here](https://www.stsci.edu/jwst/science-execution/approved-programs/dd-ers/program-1335).\n",
    "\n",
    "The software is based on the existing package IFSFIT developed by Dave Rupke (see [ADS link](https://ui.adsabs.harvard.edu/abs/2017ApJ...850...40R/abstract)).\n",
    "\n",
    "The following notebook will guide you through the initialization procedure and will then perform the analysis. "
   ]
  },
  {
   "cell_type": "markdown",
   "metadata": {},
   "source": [
    "## Table of Contents\n",
    "\n",
    "* [1. Initialization](#chapter1)\n",
    "    * [1.0. Setting up the directory tree](#chapter1_0)\n",
    "    * [1.1. Setting up the data and models](#chapter1_1)\n",
    "    * [1.2. Setting up the fitting parameters](#chapter1_2)\n",
    "        * [1.2.1. Emission line parameters](#chapter1_2_1)\n",
    "        * [1.2.2. Continuum parameters](#chapter1_2_2)\n",
    "    * [1.3. Setting up the plotting parameters](#chapter1_3)\n",
    "* [2. Run fitting and plotting routines](#chapter2)"
   ]
  },
  {
   "cell_type": "markdown",
   "metadata": {},
   "source": [
    "## 1. Initialization <a class=\"anchor\" id=\"chapter1\"></a>"
   ]
  },
  {
   "cell_type": "code",
   "execution_count": null,
   "metadata": {},
   "outputs": [],
   "source": [
    "import os.path\n",
    "import numpy as np\n",
    "%matplotlib inline\n",
    "# unless you are running this python notebook from the directory where q3dfit is installed, you need to point the\n",
    "# path to the package in order to import it. \n",
    "import sys\n",
    "sys.path.append(\"/home/jovyan\") # for JWebbinar"
   ]
  },
  {
   "cell_type": "code",
   "execution_count": null,
   "metadata": {},
   "outputs": [],
   "source": [
    "# Convenience function\n",
    "# Ref: https://github.com/spacetelescope/jwebbinar_prep/blob/main/imaging_mode/imaging_mode_stage_1.ipynb\n",
    "from astropy.utils.data import download_file\n",
    "def download_files(files, output_directory, force=False):\n",
    "    \"\"\"Given a tuple or list of tuples containing (URL, filename),\n",
    "    download the given files into the current working directory.\n",
    "    Downloading is done via astropy's download_file. A symbolic link\n",
    "    is created in the specified output dirctory that points to the\n",
    "    downloaded file.\n",
    "    \n",
    "    Parameters\n",
    "    ----------\n",
    "    files : tuple or list of tuples\n",
    "        Each 2-tuple should contain (URL, filename), where\n",
    "        URL is the URL from which to download the file, and\n",
    "        filename will be the name of the symlink pointing to\n",
    "        the downloaded file.\n",
    "        \n",
    "    output_directory : str\n",
    "        Name of the directory in which to create the symbolic\n",
    "        links to the downloaded files\n",
    "        \n",
    "    force : bool\n",
    "        If True, the file will be downloaded regarless of whether\n",
    "        it is already present or not.\n",
    "                \n",
    "    Returns\n",
    "    -------\n",
    "    filenames : list\n",
    "        List of filenames corresponding to the symbolic links\n",
    "        of the downloaded files\n",
    "    \"\"\"\n",
    "    # In the case of a single input tuple, make it a\n",
    "    # 1 element list, for consistency.\n",
    "    filenames = []\n",
    "    if isinstance(files, tuple):\n",
    "        files = [files]\n",
    "        \n",
    "    for file in files:\n",
    "        filenames.append(file[1])\n",
    "        if force:\n",
    "            print('Downloading {}...'.format(file[1]))\n",
    "            demo_file = download_file(file[0], cache='update')\n",
    "            # Make a symbolic link using a local name for convenience\n",
    "            if not os.path.islink(os.path.join(output_directory, file[1])):\n",
    "                os.symlink(demo_file, os.path.join(output_directory, file[1]))\n",
    "        else:\n",
    "            if not os.path.isfile(os.path.join(output_directory, file[1])):\n",
    "                print('Downloading {}...'.format(file[1]))\n",
    "                demo_file = download_file(file[0], cache=True)\n",
    "                # Make a symbolic link using a local name for convenience\n",
    "                os.symlink(demo_file, os.path.join(output_directory, file[1]))\n",
    "            else:\n",
    "                print('{} already exists, skipping download...'.format(file[1]))\n",
    "                continue\n",
    "    return filenames    "
   ]
  },
  {
   "cell_type": "markdown",
   "metadata": {},
   "source": [
    "### 1.0. Setting up the directory tree <a class=\"anchor\" id=\"chapter1_0\"></a>\n",
    "\n",
    "Define the directories in which the data cube(s) that you want to analyse are stored and the output directories. We recommend creating a working directory that you name after your target, in which all outputs from q3dfit will be saved. Then download test data."
   ]
  },
  {
   "cell_type": "code",
   "execution_count": null,
   "metadata": {},
   "outputs": [],
   "source": [
    "# Base directory (book-keeping)\n",
    "volume = 'nirspec-etc/'\n",
    "# prefix label for output files\n",
    "gal = 'nirspec-etc'\n",
    "# Input directory\n",
    "indir = volume\n",
    "if not os.path.exists(indir):\n",
    "    os.makedirs(indir)\n",
    "# Output directory\n",
    "outdir = volume\n",
    "if not os.path.exists(outdir):\n",
    "    os.makedirs(outdir)\n",
    "# Initialization file (q3di.npy) directory\n",
    "initdir = volume\n",
    "# Output logfile\n",
    "logfile = outdir+gal+'-fitlog.txt'"
   ]
  },
  {
   "cell_type": "markdown",
   "metadata": {},
   "source": [
    "Download data from public Box folder:"
   ]
  },
  {
   "cell_type": "code",
   "execution_count": null,
   "metadata": {},
   "outputs": [],
   "source": [
    "# make tuples of urls and download filenames\n",
    "# infile = data cube\n",
    "infile_tup=('https://rhodes.box.com/shared/static/ob0l4nzlzw5aif0l7700bywxh115hd9w.fits','nirspec-etc-simulation.fits')\n",
    "# download files; by default don't force overwrite and take first element of output\n",
    "infile = download_files(infile_tup, outdir, force=False)[0]\n",
    "# add subdirectory to filenames\n",
    "infile = outdir+infile"
   ]
  },
  {
   "cell_type": "markdown",
   "metadata": {},
   "source": [
    "### 1.1. Setting up the data and models <a class=\"anchor\" id=\"chapter1_1\"></a>\n",
    "\n",
    "Some general information about your cube. `argsreadcube` is a dictionary of attributes sent to the `CUBE` class.\n",
    "- For non-JWST data, set `wmapext` to `None`. The WMAP extension is a [3-D weight image](https://jwst-pipeline.readthedocs.io/en/latest/jwst/data_products/science_products.html) giving the relative weights of the output spaxels.\n",
    "- Microns are the wavelength unit used internally, but `q3dfit` can accept other wavelength input units or output other units.\n",
    "- The code does calculations in flambda space, but assumes input units of MJy/sr, the JWST default. Other input wavelength units can be specified."
   ]
  },
  {
   "cell_type": "code",
   "execution_count": null,
   "metadata": {},
   "outputs": [],
   "source": [
    "from q3dfit.common.readcube import CUBE\n",
    "argsreadcube = {'wmapext': None}\n",
    "\n",
    "if not os.path.isfile(infile): \n",
    "    print('Data cube not found.')\n",
    "else:\n",
    "    cube = CUBE(infile=infile, **argsreadcube)\n",
    "    ncols = cube.ncols # number of columns\n",
    "    nrows = cube.nrows # number of rows\n",
    "    cube.about()"
   ]
  },
  {
   "cell_type": "markdown",
   "metadata": {},
   "source": [
    "Name and systemic redshift of the galaxy. `zsys` is presently not used within the code, but would be an input for, e.g., calculating velocity maps in routines under development (e.g., `makemaps.py`). It is used in this notebook in initializing the arrays of initial guesses below."
   ]
  },
  {
   "cell_type": "code",
   "execution_count": null,
   "metadata": {},
   "outputs": [],
   "source": [
    "name = 'nirspec-etc-quasar-template'\n",
    "zsys_gas = 1.489"
   ]
  },
  {
   "cell_type": "markdown",
   "metadata": {},
   "source": [
    "Wavelength range over which to fit data and the range of wavelength to ignore:"
   ]
  },
  {
   "cell_type": "code",
   "execution_count": null,
   "metadata": {},
   "outputs": [],
   "source": [
    "fitrange = [0.98,1.80] #in um\n",
    "cutrange = np.array([1.4133,1.4743])"
   ]
  },
  {
   "cell_type": "markdown",
   "metadata": {},
   "source": [
    "\n",
    "Generating the quasar template used for PSF subtraction:\n"
   ]
  },
  {
   "cell_type": "code",
   "execution_count": null,
   "metadata": {},
   "outputs": [],
   "source": [
    "from q3dfit.common import makeqsotemplate\n",
    "qsotemplate = volume+'nirspec_ETC_QSO.npy' \n",
    "makeqsotemplate.makeqsotemplate(infile,qsotemplate,waveunit_out='micron',wmapext=None)"
   ]
  },
  {
   "cell_type": "markdown",
   "metadata": {},
   "source": [
    "### 1.2. Setting up the fitting parameters <a class=\"anchor\" id=\"chapter1_2\"></a>"
   ]
  },
  {
   "cell_type": "markdown",
   "metadata": {},
   "source": [
    "#### 1.2.1. Emission-line parameters <a class=\"anchor\" id=\"chapter1_2_1\"></a>"
   ]
  },
  {
   "cell_type": "markdown",
   "metadata": {},
   "source": [
    "What lines do you want to fit? You can choose from the linelists available [here](https://github.com/Q3D/q3dfit/tree/main/data/linelists), or in `q3dfit/data/linelists/`."
   ]
  },
  {
   "cell_type": "code",
   "execution_count": null,
   "metadata": {},
   "outputs": [],
   "source": [
    "lines = ['Halpha', 'Hbeta', '[OIII]4959', '[OIII]5007']"
   ]
  },
  {
   "cell_type": "markdown",
   "metadata": {},
   "source": [
    "How many components do you want to be fitted to the emission lines?"
   ]
  },
  {
   "cell_type": "code",
   "execution_count": null,
   "metadata": {},
   "outputs": [],
   "source": [
    "maxncomp = 1"
   ]
  },
  {
   "cell_type": "markdown",
   "metadata": {},
   "source": [
    "This block sets up initial conditions for the emission-line fit to each spaxel. Emission lines are set to a common redshift and velocity dispersion. However, different sets of emission lines can have different velocities and linewidths by specifying different lines to which to tie particular emission lines."
   ]
  },
  {
   "cell_type": "code",
   "execution_count": null,
   "metadata": {},
   "outputs": [],
   "source": [
    "linetie = dict()\n",
    "ncomp = dict()\n",
    "zinit_gas = dict()\n",
    "siginit_gas = dict()\n",
    "for i in lines:\n",
    "    linetie[i] = 'Halpha'\n",
    "    ncomp[i] = np.full((ncols,nrows),maxncomp)\n",
    "    zinit_gas[i] = np.full((ncols,nrows,maxncomp),1.489)\n",
    "    siginit_gas[i] = np.full((ncols,nrows,maxncomp),200.)"
   ]
  },
  {
   "cell_type": "markdown",
   "metadata": {},
   "source": [
    "`siglim_gas` sets lower and upper bounds for the Gaussian width (sigma) of the emission line. These limits can be set globablly, for all spaxels and components, by defining a 2-element array. The limits can also be set for individual spaxels (but all components) by defining an (Ncol x Nrow x 2) array."
   ]
  },
  {
   "cell_type": "code",
   "execution_count": null,
   "metadata": {},
   "outputs": [],
   "source": [
    "# Global limit\n",
    "siglim_gas = np.array([5., 500.])\n",
    "\n",
    "# Spaxel-by-spaxel limit\n",
    "# siglim_gas = np.ndarray((dx, dy, 2))\n",
    "# siglim_gas[:,:,] = array([5.,1000.])\n",
    "# siglim_gas[13, 10, :] = array([5.,500.])"
   ]
  },
  {
   "cell_type": "markdown",
   "metadata": {},
   "source": [
    "#### Spectral resolution convolution\n",
    "##### Just running convolution ---\n",
    "\n",
    "If no convolution is desired, then set `spectres_convolve` to None. \n",
    "If convolution is desired, then `spectres_convolve` and `spect_instrum` are required variables.\n",
    "\n",
    "Specify the desired convolution method using `spect_instrum`. The syntax is: \n",
    "`spect_instrum = {INSTRUMENT:[METHOD]}`, which should mirror the filename in `q3dfit/data/dispersion_files/`. METHOD specifies the grating, spectral resolution [R], Δλ FWHM in [Å], velocity in [km/s].\n",
    "\n",
    "Examples convolving with: \n",
    "1. flat R=500: `spect_instrum = {'flat':['R500']}`\n",
    "2. flat velocity FWHM = 30km/s: `spect_instrum = {'flat':['kms30']}`\n",
    "3. flat Δλ FWHM = 4 Å: `spect_instrum = {'flat':['dlambda4']}`\n",
    "4. JWST NIRSPEC / G140M: `spect_instrum = {'JWST_NIRSPEC':['G140M']}`\n",
    "\n",
    "If desired flat convolution file does not exist, then a new file will be created automatically. "
   ]
  },
  {
   "cell_type": "code",
   "execution_count": null,
   "metadata": {},
   "outputs": [],
   "source": [
    "spect_instrum = {'JWST_NIRSPEC':['G140H']}\n",
    "spectres_convolve = {'ws_instrum':spect_instrum}"
   ]
  },
  {
   "cell_type": "markdown",
   "metadata": {},
   "source": [
    "##### Creating convolution files (optional) ---\n",
    "\n",
    "If the user wants to create a dispersion file, there are 2 methods:\n",
    "\n",
    "1. First, run `from q3dfit.common.spectConvol import dispFile` and initialize: `dispObj = dispFile()`\n",
    "2. Create the files with either method A or B\n",
    "\n",
    "2.(A) Create a flat R=120 dispersion file from 10 μm to 30 μm: \n",
    "\n",
    "`dispObj.make_dispersion(120,WAVELEN=[10,30],TYPE='R')`\n",
    "\n",
    "2.(B) Create a custom dispersion file with user supplied wavelength and Resolving power lists:\n",
    "\n",
    "`dispObj.make_custom_dispersion([wavelen list],R=[some R list],FILENAME='custom_RlistA_disp')`\n",
    "\n",
    "3. Specify desired dispersion file in convolution: running custom example 2B\n",
    "\n",
    "`spect_instrum = {'custom':['RlistA']}`\n"
   ]
  },
  {
   "cell_type": "code",
   "execution_count": null,
   "metadata": {},
   "outputs": [],
   "source": [
    "#from q3dfit.common.spectConvol import dispFile\n",
    "#dobj = dispFile()\n",
    "#dispObj.make_custom_dispersion([wavelen list],R=[some R list],FILENAME='custom_RlistA_disp')\n",
    "#spect_instrum = {'custom':['RlistA']}"
   ]
  },
  {
   "cell_type": "markdown",
   "metadata": {},
   "source": [
    "#### 1.2.2 Continuum parameters <a class=\"anchor\" id=\"chapter1_2_2\"></a>"
   ]
  },
  {
   "cell_type": "markdown",
   "metadata": {},
   "source": [
    "`q3dfit` first masks emission lines before fitting. This sets is the default mask value in km/s for each velocity component for the first fit. During the second fit, the mask value is set automatically using the best-fit linewidths determined from the first fit."
   ]
  },
  {
   "cell_type": "code",
   "execution_count": null,
   "metadata": {},
   "outputs": [],
   "source": [
    "maskwidths_def = 500."
   ]
  },
  {
   "cell_type": "markdown",
   "metadata": {},
   "source": [
    "The continuum fitting parameters specified here are for the case of simultaneous fitting of a stellar and quasar template.\n",
    "- `hostord` = [Optional] additive Legendre polynomial for host [starlight] component. Adds components up to order `hostord`.\n",
    "- `qsoord` = [Optional] additive Legendre polynomial for host [starlight] component. Adds components up to order `qsoord`.\n",
    "- `qsoxdr` = Filename and path of quasar template created earlier with `makeqsotemplate.py`."
   ]
  },
  {
   "cell_type": "code",
   "execution_count": null,
   "metadata": {},
   "outputs": [],
   "source": [
    "fcncontfit = 'fitqsohost'\n",
    "argscontfit = dict()\n",
    "argscontfit['qsoxdr'] = qsotemplate\n",
    "argscontfit['qsoord'] = 10\n",
    "argscontfit['hostord'] = 10"
   ]
  },
  {
   "cell_type": "markdown",
   "metadata": {},
   "source": [
    "### 1.3. Setting up the plotting parameters <a class=\"anchor\" id=\"chapter1_3\"></a>"
   ]
  },
  {
   "cell_type": "markdown",
   "metadata": {},
   "source": [
    "One dictionary must be defined for a line plot to appear. `argspltlin1` holds the options for the first line plot, and `argspltlin2` is for the second. Parameter options are fed in as keyword/data pairs.\n",
    "\n",
    "Required keywords in each dictionary:\n",
    "* `nx`: Number of subplots in the horizontal direction\n",
    "* `ny`: Number of subplots in the vertical direction\n",
    "* Options for centerting the plot:\n",
    "    - `line`: a string list of line labels\n",
    "    - `center_obs`: a float list of wavelengths of each subplot center, in the observed (plotted) frame\n",
    "    - `center_rest`: a float list of wavelengths of each subplot center, in the rest frame, which are converted to obs. frame\n",
    "\n",
    "Optional keywords:\n",
    "* `size`: float list of widths in wavelength space of each subplot; if not specified, default is 300 $Å$\n",
    "* `IR`: set to `True` to use infrared-style plot"
   ]
  },
  {
   "cell_type": "code",
   "execution_count": null,
   "metadata": {},
   "outputs": [],
   "source": [
    "argspltlin1 = {'nx': 3,\n",
    "               'ny': 1,\n",
    "               'line': ['Hbeta', '[OIII]5007', 'Halpha'],\n",
    "               'size': [0.05, 0.05, 0.05]}"
   ]
  },
  {
   "cell_type": "markdown",
   "metadata": {},
   "source": [
    "The continuum plot can be changed by specifying several parameters. In this case, we have chosen to output a linear/linear plot of f$_\\lambda$ vs. wavelength, in $\\mu$m."
   ]
  },
  {
   "cell_type": "code",
   "execution_count": null,
   "metadata": {},
   "outputs": [],
   "source": [
    "argscontplot = {'xstyle': 'lin',\n",
    "                'ystyle': 'lin',\n",
    "                'fluxunit_out': 'flambda',\n",
    "                'mode': 'dark'}"
   ]
  },
  {
   "cell_type": "markdown",
   "metadata": {},
   "source": [
    "The following cell will create the initialisation structure. **Do not change anything in this cell.** "
   ]
  },
  {
   "cell_type": "code",
   "execution_count": null,
   "metadata": {},
   "outputs": [],
   "source": [
    "q3di = {# Required pars\n",
    "        'fitran': fitrange,\n",
    "        'fluxunits': 1,\n",
    "        'infile': infile,\n",
    "        'label': gal,\n",
    "        'lines': lines,\n",
    "        'linetie': linetie,\n",
    "        'maxncomp': maxncomp,\n",
    "        'name': gal,\n",
    "        'ncomp': ncomp,\n",
    "        'outdir': outdir,\n",
    "        'zinit_gas': zinit_gas,\n",
    "        'zsys_gas': zsys_gas,\n",
    "        # Optional pars\n",
    "        'argscontfit': argscontfit,\n",
    "        'argscontplot': argscontplot,\n",
    "        'argsreadcube': argsreadcube,\n",
    "        'argspltlin1': argspltlin1,\n",
    "        'cutrange': cutrange,\n",
    "        'fcncontfit': fcncontfit,\n",
    "        'logfile': logfile,\n",
    "        'maskwidths_def': maskwidths_def,\n",
    "        'siglim_gas': siglim_gas,\n",
    "        'siginit_gas': siginit_gas,\n",
    "        'spect_convol':spectres_convolve\n",
    "        }"
   ]
  },
  {
   "cell_type": "markdown",
   "metadata": {},
   "source": [
    "If you want to run `q3dfit` in batch mode, run this cell, which saves q3di to an `npy` file. In your python command line, read in file and run `q3dfit` with\n",
    "<pre><code>q3di = '/path/to/the/npy/file/q3di.npy'\n",
    "from q3dfit.common.q3df import q3df\n",
    "q3df(q3di,cols=cols,rows=rows)</code></pre>"
   ]
  },
  {
   "cell_type": "code",
   "execution_count": null,
   "metadata": {},
   "outputs": [],
   "source": [
    "q3di_npy = 'q3di.npy'\n",
    "np.save(initdir+q3di_npy,q3di)"
   ]
  },
  {
   "cell_type": "markdown",
   "metadata": {},
   "source": [
    "## 2. Run fitting and plotting routines <a class=\"anchor\" id=\"chapter2\"></a>"
   ]
  },
  {
   "cell_type": "code",
   "execution_count": null,
   "metadata": {},
   "outputs": [],
   "source": [
    "from q3dfit.common.q3df import q3df\n",
    "from q3dfit.common.q3da import q3da"
   ]
  },
  {
   "cell_type": "markdown",
   "metadata": {},
   "source": [
    "Choose columns and rows to fit. Ranges are specified as two-element lists specifying the first and last spaxel."
   ]
  },
  {
   "cell_type": "code",
   "execution_count": null,
   "metadata": {},
   "outputs": [],
   "source": [
    "cols = 13\n",
    "rows = 20"
   ]
  },
  {
   "cell_type": "markdown",
   "metadata": {},
   "source": [
    "Run the fit. Choose `quiet=False` for verbose output. An output dictionary for each spaxel is saved to a numpy binary file labeled with prefix `q3di['label']` and suffix `_col_row.npy`."
   ]
  },
  {
   "cell_type": "code",
   "execution_count": null,
   "metadata": {},
   "outputs": [],
   "source": [
    "q3df(q3di,cols=cols,rows=rows, quiet=False)"
   ]
  },
  {
   "cell_type": "markdown",
   "metadata": {},
   "source": [
    "Plot the results. The resulting plots are saved as `.jpg` files. Data from multiple spaxels are collated into dictionaries containing emission-line and continuum best-fit parameters and saved to various ancillary files."
   ]
  },
  {
   "cell_type": "code",
   "execution_count": null,
   "metadata": {},
   "outputs": [],
   "source": [
    "q3da(q3di,cols=cols,rows=rows)"
   ]
  }
 ],
 "metadata": {
  "kernelspec": {
   "display_name": "JWebbinar",
   "language": "python",
   "name": "jwebbinar"
  },
  "language_info": {
   "codemirror_mode": {
    "name": "ipython",
    "version": 3
   },
   "file_extension": ".py",
   "mimetype": "text/x-python",
   "name": "python",
   "nbconvert_exporter": "python",
   "pygments_lexer": "ipython3",
   "version": "3.8.13"
  }
 },
 "nbformat": 4,
 "nbformat_minor": 4
}
