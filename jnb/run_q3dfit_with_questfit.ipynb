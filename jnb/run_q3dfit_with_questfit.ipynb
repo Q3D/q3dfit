{
 "cells": [
  {
   "cell_type": "markdown",
   "metadata": {},
   "source": [
    "# Run Q3Dfit from this Jupyter Notebook in Astroconda Environment."
   ]
  },
  {
   "cell_type": "markdown",
   "metadata": {},
   "source": [
    "## Step 1: Create Initialization File. \n",
    "\n",
    "### Adjust it everywhere, where you see the commented line \"These/This are/is unique to the user\"!"
   ]
  },
  {
   "cell_type": "code",
   "execution_count": 1,
   "metadata": {},
   "outputs": [],
   "source": [
    "#%%writefile ../init/pg1411_and_Spitzer.py\n",
    "#%%writefile /Users/dwylezal/EmmyNoether_Science/Q3D/JWST_ERS_Planning/Software/q3dfit/init/pg1411.py\n",
    "# This is unique to the user, save file to /Your/Path/q3dfit/init/\n",
    "\n",
    "\n",
    "import os.path\n",
    "import numpy as np\n",
    "\n",
    "# This may be unique to the user, insert your path to the q3dfit/ folder here\n",
    "import sys\n",
    "if '../../' not in sys.path:\n",
    "    sys.path.append('../../')\n",
    "from q3dfit.common import questfit_readcf\n",
    "\n",
    "\n",
    "# This is unique to the user, name the function after your object.\n",
    "def pg1411_and_Spitzer():\n",
    "\n",
    "    # These are unique to the user\n",
    "    # bad=1e99\n",
    "    gal = 'pg1411'\n",
    "    outstr = 'rb3'\n",
    "    ncols = 17\n",
    "    nrows = 26\n",
    "    # centcol = 9.002\n",
    "    # centrow = 14.002\n",
    "    platescale = 0.3\n",
    "    #fitrange = [4620,7450]\n",
    "    fitrange = np.array([5.422479152679443,29.980998992919922])*10000  # angstrom\n",
    "    \n",
    "    #   These are unique to the user\n",
    "    # volume = '/Users/dwylezal/EmmyNoether_Science/Q3D/JWST_ERS_Planning/Software/PG1411/'\n",
    "    volume = '/Users/annamurphree/Docs/Rupke Research/q3d/pg1411/'\n",
    "    #volume = '/Users/Endeavour/Projects/Q3D_dev/pyfsfit'\n",
    "    test_cube = '../test/test_questfit/IRAS21219m1757_dlw_qst_mock_cube.fits'\n",
    "    infile = test_cube #volume+gal+outstr+'.fits'\n",
    "    #mapdir = volume+gal+'/'+outstr+'/'\n",
    "    #outdir = volume+gal+'/'+outstr+'/'\n",
    "    mapdir = '../test/test_questfit/'\n",
    "    outdir = mapdir\n",
    "    qsotemplate = volume+gal+'qsotemplate.npy'\n",
    "    stellartemplates =  \\\n",
    "        volume+gal+'hosttemplate.npy'\n",
    "    logfile = outdir+gal+'_fitlog.txt'\n",
    "    #batchfile = '/Users/dwylezal/ESO_Fellowship/JWST_ERS_Planning/Software/ifsfit-master/common/fitloop.pro'\n",
    "    #batchdir = '/Users/dwylezal/ESO_Fellowship/JWST_ERS_Planning/Software/'\n",
    "    batchfile = '/Users/annamurphree/Docs/Rupke Research/q3d/q3dfit/common/ifsf_fitloop.pro' \n",
    "    batchdir = '/Users/annamurphree/Docs/Rupke Research/q3d/q3dfit/'\n",
    "\n",
    "    \n",
    "    ### for our test object, pg1411, nothing needs to be changed here for now, make more flexible later\n",
    "\n",
    "    \n",
    "    ### more MIR settings\n",
    "    #   These are unique to the user\n",
    "    #  Include Spitzer source (independently of PG1411 for now for testing purposes)\n",
    "    global_extinction = True\n",
    "    global_ice_model = 'ice_hc'\n",
    "    global_ext_model = 'CHIAR06'\n",
    "    directory = '../test/test_questfit/'\n",
    "    cffilename = '../test/test_questfit/IRAS21219m1757_dlw_qst.cf'\n",
    "    config_file = questfit_readcf.readcf(cffilename)\n",
    "    #MIRz=0.112    \n",
    "\n",
    "\n",
    "\n",
    "    # Required parameters\n",
    "\n",
    "    if not os.path.isfile(infile): print('Data cube not found.')\n",
    "\n",
    "    # Lines to fit.\n",
    "    lines = ['test-MIRLINE']\n",
    "    # nlines = len(lines)\n",
    "\n",
    "    # Max no. of components.\n",
    "    maxncomp = 1\n",
    "\n",
    "    # Initialize line ties, n_comps, z_inits, and sig_inits.\n",
    "    linetie = dict()\n",
    "    ncomp = dict()\n",
    "    zinit_gas = dict()\n",
    "    siginit_gas = dict()\n",
    "    for i in lines:\n",
    "        linetie[i] = 'test-MIRLINE'\n",
    "        ncomp[i] = np.full((ncols,nrows),maxncomp)\n",
    "        ncomp[i][8,13] = 0\n",
    "        zinit_gas[i] = np.full((ncols,nrows,maxncomp),0.0898)\n",
    "        siginit_gas[i] = np.full(maxncomp,50)\n",
    "        zinit_gas[i][2,18,:]=0.091\n",
    "        zinit_gas[i][4,21:22,:]=0.091\n",
    "        zinit_gas[i][5,21,:]=0.091\n",
    "        zinit_gas[i][6:8,23:25,:]=0.091\n",
    "        zinit_gas[i][1:4,1:7,:]=0.0894\n",
    "        zinit_gas[i][6:16,0:7,:]=0.089\n",
    "        zinit_gas[i][11,8:9,:]=0.089\n",
    "        zinit_stars=np.full((ncols,nrows),0.0898)\n",
    "\n",
    "    #\n",
    "    # Optional pars\n",
    "    #\n",
    "\n",
    "    # Tweaked regions are around HeII,Hb/[OIII],HeI5876/NaD,[OI],Halpha, and [SII]\n",
    "    # Lower and upper wavelength for re-fit\n",
    "    tw_lo = [4600,5200,6300,6800,7000,7275]\n",
    "    tw_hi = [4800,5500,6500,7000,7275,7375]\n",
    "    # Number of wavelength regions to re-fit\n",
    "    tw_n = len(tw_lo)\n",
    "    # Fitting orders\n",
    "    deford = 1\n",
    "    tw_ord = np.full(tw_n,deford)\n",
    "    # Parameters for continuum fit\n",
    "    # In third dimension:\n",
    "    #   first element is lower wavelength limit\n",
    "    #   second element is upper\n",
    "    #   third is fit order\n",
    "    tweakcntfit = np.full((ncols,nrows,3,tw_n),0)\n",
    "    tweakcntfit[:,:,0,:] = tw_lo\n",
    "    tweakcntfit[:,:,1,:] = tw_hi\n",
    "    tweakcntfit[:,:,2,:] = tw_ord\n",
    "\n",
    "    # Parameters for emission line plotting\n",
    "    linoth = np.full((1, 1), '', dtype=object)\n",
    "    linoth[0, 0] = 'test-MIRLINE'\n",
    "    argspltlin1 = {'nx': 1,\n",
    "                   'ny': 1,\n",
    "                   'label': ['test-MIRLINE'],\n",
    "                   'wave': [168000.0],\n",
    "                   'off': [[-120,90]],\n",
    "                   'linoth': linoth}\n",
    "\n",
    "    # Velocity dispersion limits and fixed values\n",
    "    siglim_gas = np.ndarray(2)\n",
    "    siglim_gas[:] = [5, 500]\n",
    "    # lratfix = {'[NI]5200/5198': [1.5]}\n",
    "\n",
    "    #\n",
    "    # Output structure\n",
    "    #\n",
    "\n",
    "    init = { \\\n",
    "            # Required pars\n",
    "            'fcninitpar': 'gmos',\n",
    "            'fitran': fitrange,\n",
    "            'fluxunits': 1,  # erg/s/cm^2/arcsec^2\n",
    "            'infile': infile,\n",
    "            'label': config_file['source'][0].replace('.ideos','').replace('.npy', ''),\n",
    "            'lines': lines,\n",
    "            'linetie': linetie,\n",
    "            'maxncomp': maxncomp,\n",
    "            'name': 'IRAS21219m1757_dlw_qst', #'PG1411+442',\n",
    "            'ncomp': ncomp,\n",
    "            'mapdir': mapdir,\n",
    "            'outdir': outdir,\n",
    "            'platescale': platescale,\n",
    "            'positionangle': 335,\n",
    "            'minoraxispa': 75,\n",
    "            'zinit_stars': zinit_stars,\n",
    "            'zinit_gas': zinit_gas,\n",
    "            'zsys_gas': 0.0898,\n",
    "            # Optional pars\n",
    "#            'argscheckcomp': {'sigcut': 3,\n",
    "#                              'ignore': ['[OI]6300', '[OI]6364',\n",
    "#                                         '[SII]6716', '[SII]6731']},\n",
    "\n",
    "            'argscontfit': {'config_file':cffilename,\n",
    "                            'global_ice_model':global_ice_model,\n",
    "                            'global_ext_model':global_ext_model,\n",
    "                            'models_dictionary':{},\n",
    "                            'template_dictionary':{}},\n",
    "            'argscontplot': {'xstyle':'log',\n",
    "                             'ystyle':'log',\n",
    "                             'xunit': 'Angstrom',\n",
    "                             'yunit':'flambda',\n",
    "                             'mode':'dark'},\n",
    "            'argslinelist': {'vacuum': False},\n",
    "            'startempfile': stellartemplates,\n",
    "            'argspltlin1': argspltlin1,\n",
    "            # 'donad': 1,\n",
    "            #'decompose_qso_fit': 1,\n",
    "            # 'remove_scattered': 1,\n",
    "            'fcncheckcomp': 'checkcomp',\n",
    "            'fcncontfit': 'questfit',\n",
    "            'maskwidths_def': 500,\n",
    "            'tweakcntfit': tweakcntfit,\n",
    "            'emlsigcut': 2,\n",
    "            'logfile': logfile,\n",
    "            'batchfile': batchfile,\n",
    "            'batchdir': batchdir,\n",
    "            'siglim_gas': siglim_gas,\n",
    "            'siginit_gas': siginit_gas,\n",
    "            'siginit_stars': 50,\n",
    "#            'cutrange': np.array([6410, 6430]),\n",
    "            'nocvdf': 1,\n",
    "            # 'cvdf_vlimits': [-3e3,3e3],\n",
    "            # 'cvdf_vstep': 10d,\n",
    "            # 'host': {'dat_fits': volume+'ifs/gmos/cubes/'+gal+'/'+\\\n",
    "            #         gal+outstr+'_host_dat_2.fits'} \\\n",
    "\n",
    "\n",
    "            'waveext': 4,\n",
    "            'datext': 1,\n",
    "            'varext': 2,\n",
    "            'dqext': 3,\n",
    "            'zerodq': True,\n",
    "            'plotMIR': True,\n",
    "        }\n",
    "\n",
    "    return(init)\n",
    "\n",
    "\n"
   ]
  },
  {
   "cell_type": "code",
   "execution_count": 2,
   "metadata": {},
   "outputs": [],
   "source": [
    "init = pg1411_and_Spitzer()\n",
    "#print(init)\n",
    "initproc_npy = 'initproc_MIR.npy'\n",
    "np.save('/Users/annamurphree/Docs/Rupke Research/q3d/pg1411/'+initproc_npy,init)"
   ]
  },
  {
   "cell_type": "code",
   "execution_count": 28,
   "metadata": {},
   "outputs": [
    {
     "name": "stdout",
     "output_type": "stream",
     "text": [
      "Once deleted, variables cannot be recovered. Proceed (y/[n])? y\n"
     ]
    }
   ],
   "source": [
    "%reset"
   ]
  },
  {
   "cell_type": "markdown",
   "metadata": {},
   "source": [
    "### Note: May need to restart the kernel for changes to apply"
   ]
  },
  {
   "cell_type": "markdown",
   "metadata": {},
   "source": [
    "## Step 2: Run Q3Dfit"
   ]
  },
  {
   "cell_type": "code",
   "execution_count": 3,
   "metadata": {},
   "outputs": [],
   "source": [
    "# This may be unique to the user, insert your path to the q3dfit/ folder here\n",
    "import sys\n",
    "if '../../' not in sys.path:\n",
    "    sys.path.append('../../')\n",
    "\n",
    "from q3dfit.common.q3df import q3df\n",
    "from q3dfit.common.q3da import q3da"
   ]
  },
  {
   "cell_type": "markdown",
   "metadata": {},
   "source": [
    "### Name initproc like the function in the initialization file (ideally after your object name)"
   ]
  },
  {
   "cell_type": "code",
   "execution_count": 4,
   "metadata": {},
   "outputs": [],
   "source": [
    "#initproc = 'pg1411_and_Spitzer'\n",
    "import numpy as np\n",
    "initproc = np.load('/Users/annamurphree/Docs/Rupke Research/q3d/pg1411/initproc_MIR.npy', \n",
    "                   allow_pickle=True)\n",
    "cols = [1]\n",
    "rows = [1]"
   ]
  },
  {
   "cell_type": "code",
   "execution_count": 6,
   "metadata": {},
   "outputs": [
    {
     "name": "stdout",
     "output_type": "stream",
     "text": [
      "No line with name  test-MIRLINE  was found\n",
      "Input list size different from output table size, most likely\n",
      "because some lines were not found in the database\n",
      "local variable 'header' referenced before assignment\n",
      "... Continuing anyway ...\n",
      "1.0\n",
      "1.0\n",
      "1.0\n",
      "1\n"
     ]
    },
    {
     "ename": "IndexError",
     "evalue": "index 3 is out of bounds for axis 0 with size 3",
     "output_type": "error",
     "traceback": [
      "\u001b[0;31m---------------------------------------------------------------------------\u001b[0m",
      "\u001b[0;31mIndexError\u001b[0m                                Traceback (most recent call last)",
      "\u001b[0;32m<ipython-input-6-33cd6f550a12>\u001b[0m in \u001b[0;36m<module>\u001b[0;34m\u001b[0m\n\u001b[1;32m      1\u001b[0m \u001b[0;31m#q3df(initproc,cols=cols,rows=rows)\u001b[0m\u001b[0;34m\u001b[0m\u001b[0;34m\u001b[0m\u001b[0;34m\u001b[0m\u001b[0m\n\u001b[0;32m----> 2\u001b[0;31m \u001b[0mq3df\u001b[0m\u001b[0;34m(\u001b[0m\u001b[0minitproc\u001b[0m\u001b[0;34m[\u001b[0m\u001b[0;34m(\u001b[0m\u001b[0;34m)\u001b[0m\u001b[0;34m]\u001b[0m\u001b[0;34m,\u001b[0m \u001b[0mcols\u001b[0m\u001b[0;34m=\u001b[0m\u001b[0mcols\u001b[0m\u001b[0;34m,\u001b[0m \u001b[0mrows\u001b[0m\u001b[0;34m=\u001b[0m\u001b[0mrows\u001b[0m\u001b[0;34m)\u001b[0m\u001b[0;34m\u001b[0m\u001b[0;34m\u001b[0m\u001b[0m\n\u001b[0m",
      "\u001b[0;32m~/Docs/Rupke Research/q3dfit/q3dfit/common/q3df.py\u001b[0m in \u001b[0;36mq3df\u001b[0;34m(initproc, cols, rows, oned, onefit, ncores, quiet)\u001b[0m\n\u001b[1;32m     51\u001b[0m     \u001b[0;32mif\u001b[0m \u001b[0mncores\u001b[0m \u001b[0;34m==\u001b[0m \u001b[0;36m1\u001b[0m\u001b[0;34m:\u001b[0m\u001b[0;34m\u001b[0m\u001b[0;34m\u001b[0m\u001b[0m\n\u001b[1;32m     52\u001b[0m         \u001b[0;32mfrom\u001b[0m \u001b[0mq3dfit\u001b[0m\u001b[0;34m.\u001b[0m\u001b[0mcommon\u001b[0m\u001b[0;34m.\u001b[0m\u001b[0mq3df_helperFunctions\u001b[0m \u001b[0;32mimport\u001b[0m \u001b[0mq3df_oneCore\u001b[0m\u001b[0;34m\u001b[0m\u001b[0;34m\u001b[0m\u001b[0m\n\u001b[0;32m---> 53\u001b[0;31m         \u001b[0mq3df_oneCore\u001b[0m\u001b[0;34m(\u001b[0m\u001b[0minitproc\u001b[0m\u001b[0;34m,\u001b[0m \u001b[0mcols\u001b[0m\u001b[0;34m,\u001b[0m \u001b[0mrows\u001b[0m\u001b[0;34m,\u001b[0m \u001b[0moned\u001b[0m\u001b[0;34m,\u001b[0m \u001b[0monefit\u001b[0m\u001b[0;34m,\u001b[0m \u001b[0mquiet\u001b[0m\u001b[0;34m)\u001b[0m\u001b[0;34m\u001b[0m\u001b[0;34m\u001b[0m\u001b[0m\n\u001b[0m\u001b[1;32m     54\u001b[0m     \u001b[0;32melif\u001b[0m \u001b[0mncores\u001b[0m \u001b[0;34m>\u001b[0m \u001b[0;36m1\u001b[0m\u001b[0;34m:\u001b[0m\u001b[0;34m\u001b[0m\u001b[0;34m\u001b[0m\u001b[0m\n\u001b[1;32m     55\u001b[0m         \u001b[0;32mfrom\u001b[0m \u001b[0minspect\u001b[0m \u001b[0;32mimport\u001b[0m \u001b[0mgetfile\u001b[0m\u001b[0;34m\u001b[0m\u001b[0;34m\u001b[0m\u001b[0m\n",
      "\u001b[0;32m~/Docs/Rupke Research/q3dfit/q3dfit/common/q3df_helperFunctions.py\u001b[0m in \u001b[0;36mq3df_oneCore\u001b[0;34m(initproc, cols, rows, oned, onefit, quiet)\u001b[0m\n\u001b[1;32m    219\u001b[0m \u001b[0;34m\u001b[0m\u001b[0m\n\u001b[1;32m    220\u001b[0m     execute_fitloop(nspax, colarr, rowarr, cube, initdat, linelist, oned,\n\u001b[0;32m--> 221\u001b[0;31m                     onefit, quiet, logfile=logfile)\n\u001b[0m\u001b[1;32m    222\u001b[0m \u001b[0;34m\u001b[0m\u001b[0m\n\u001b[1;32m    223\u001b[0m     \u001b[0;32mif\u001b[0m \u001b[0mlogfile\u001b[0m \u001b[0;32mis\u001b[0m \u001b[0;32mNone\u001b[0m\u001b[0;34m:\u001b[0m\u001b[0;34m\u001b[0m\u001b[0;34m\u001b[0m\u001b[0m\n",
      "\u001b[0;32m~/Docs/Rupke Research/q3dfit/q3dfit/common/q3df_helperFunctions.py\u001b[0m in \u001b[0;36mexecute_fitloop\u001b[0;34m(nspax, colarr, rowarr, cube, initdat, linelist, oned, onefit, quiet, logfile)\u001b[0m\n\u001b[1;32m    188\u001b[0m     \u001b[0;32mfor\u001b[0m \u001b[0mispax\u001b[0m \u001b[0;32min\u001b[0m \u001b[0mrange\u001b[0m\u001b[0;34m(\u001b[0m\u001b[0;36m0\u001b[0m\u001b[0;34m,\u001b[0m \u001b[0mnspax\u001b[0m\u001b[0;34m)\u001b[0m\u001b[0;34m:\u001b[0m\u001b[0;34m\u001b[0m\u001b[0;34m\u001b[0m\u001b[0m\n\u001b[1;32m    189\u001b[0m         fitloop(ispax, colarr, rowarr, cube, initdat, linelist,\n\u001b[0;32m--> 190\u001b[0;31m                 oned, onefit, quiet, logfile=logfile)\n\u001b[0m\u001b[1;32m    191\u001b[0m \u001b[0;34m\u001b[0m\u001b[0m\n\u001b[1;32m    192\u001b[0m \u001b[0;34m\u001b[0m\u001b[0m\n",
      "\u001b[0;32m~/Docs/Rupke Research/q3dfit/q3dfit/common/fitloop.py\u001b[0m in \u001b[0;36mfitloop\u001b[0;34m(ispax, colarr, rowarr, cube, initdat, listlines, oned, onefit, quiet, logfile)\u001b[0m\n\u001b[1;32m    224\u001b[0m                                  \u001b[0msiglim_gas\u001b[0m\u001b[0;34m=\u001b[0m\u001b[0msiglim_gas\u001b[0m\u001b[0;34m,\u001b[0m\u001b[0;34m\u001b[0m\u001b[0;34m\u001b[0m\u001b[0m\n\u001b[1;32m    225\u001b[0m                                  \u001b[0msiginit_gas\u001b[0m\u001b[0;34m=\u001b[0m\u001b[0msiginit_gas\u001b[0m\u001b[0;34m,\u001b[0m\u001b[0;34m\u001b[0m\u001b[0;34m\u001b[0m\u001b[0m\n\u001b[0;32m--> 226\u001b[0;31m                                  tweakcntfit=tweakcntfit, col=i+1, row=j+1)\n\u001b[0m\u001b[1;32m    227\u001b[0m \u001b[0;34m\u001b[0m\u001b[0m\n\u001b[1;32m    228\u001b[0m             \u001b[0;31m# if not quiet:\u001b[0m\u001b[0;34m\u001b[0m\u001b[0;34m\u001b[0m\u001b[0;34m\u001b[0m\u001b[0m\n",
      "\u001b[0;32m~/Docs/Rupke Research/q3dfit/q3dfit/common/fitspec.py\u001b[0m in \u001b[0;36mfitspec\u001b[0;34m(wlambda, flux, err, dq, zstar, listlines, listlinesz, ncomp, initdat, maskwidths, peakinit, quiet, siginit_gas, siglim_gas, tweakcntfit, col, row)\u001b[0m\n\u001b[1;32m    502\u001b[0m             \u001b[0;32mfor\u001b[0m \u001b[0mi\u001b[0m \u001b[0;32min\u001b[0m \u001b[0mrange\u001b[0m\u001b[0;34m(\u001b[0m\u001b[0mlen\u001b[0m\u001b[0;34m(\u001b[0m\u001b[0mtweakcntfit\u001b[0m\u001b[0;34m[\u001b[0m\u001b[0;36m0\u001b[0m\u001b[0;34m,\u001b[0m\u001b[0;34m:\u001b[0m\u001b[0;34m]\u001b[0m\u001b[0;34m)\u001b[0m\u001b[0;34m)\u001b[0m\u001b[0;34m:\u001b[0m\u001b[0;34m\u001b[0m\u001b[0;34m\u001b[0m\u001b[0m\n\u001b[1;32m    503\u001b[0m             \u001b[0;31m# Indices into full data\u001b[0m\u001b[0;34m\u001b[0m\u001b[0;34m\u001b[0m\u001b[0;34m\u001b[0m\u001b[0m\n\u001b[0;32m--> 504\u001b[0;31m                 \u001b[0mtmp_ind1\u001b[0m \u001b[0;34m=\u001b[0m \u001b[0mnp\u001b[0m\u001b[0;34m.\u001b[0m\u001b[0mwhere\u001b[0m\u001b[0;34m(\u001b[0m\u001b[0mgdlambda\u001b[0m \u001b[0;34m>=\u001b[0m \u001b[0mtweakcntfit\u001b[0m\u001b[0;34m[\u001b[0m\u001b[0mi\u001b[0m\u001b[0;34m,\u001b[0m\u001b[0;36m0\u001b[0m\u001b[0;34m]\u001b[0m\u001b[0;34m)\u001b[0m\u001b[0;34m[\u001b[0m\u001b[0;36m0\u001b[0m\u001b[0;34m]\u001b[0m\u001b[0;34m\u001b[0m\u001b[0;34m\u001b[0m\u001b[0m\n\u001b[0m\u001b[1;32m    505\u001b[0m                 \u001b[0mtmp_ind2\u001b[0m \u001b[0;34m=\u001b[0m \u001b[0mnp\u001b[0m\u001b[0;34m.\u001b[0m\u001b[0mwhere\u001b[0m\u001b[0;34m(\u001b[0m\u001b[0mgdlambda\u001b[0m \u001b[0;34m<=\u001b[0m \u001b[0mtweakcntfit\u001b[0m\u001b[0;34m[\u001b[0m\u001b[0mi\u001b[0m\u001b[0;34m,\u001b[0m\u001b[0;36m1\u001b[0m\u001b[0;34m]\u001b[0m\u001b[0;34m)\u001b[0m\u001b[0;34m[\u001b[0m\u001b[0;36m0\u001b[0m\u001b[0;34m]\u001b[0m\u001b[0;34m\u001b[0m\u001b[0;34m\u001b[0m\u001b[0m\n\u001b[1;32m    506\u001b[0m                 \u001b[0mtmp_ind\u001b[0m \u001b[0;34m=\u001b[0m \u001b[0mnp\u001b[0m\u001b[0;34m.\u001b[0m\u001b[0mintersect1d\u001b[0m\u001b[0;34m(\u001b[0m\u001b[0mtmp_ind1\u001b[0m\u001b[0;34m,\u001b[0m\u001b[0mtmp_ind2\u001b[0m\u001b[0;34m)\u001b[0m\u001b[0;34m\u001b[0m\u001b[0;34m\u001b[0m\u001b[0m\n",
      "\u001b[0;31mIndexError\u001b[0m: index 3 is out of bounds for axis 0 with size 3"
     ]
    }
   ],
   "source": [
    "#q3df(initproc,cols=cols,rows=rows)\n",
    "q3df(initproc[()], cols=cols, rows=rows)"
   ]
  },
  {
   "cell_type": "code",
   "execution_count": 6,
   "metadata": {},
   "outputs": [
    {
     "name": "stdout",
     "output_type": "stream",
     "text": [
      "No line with name  test-MIRLINE  was found\n",
      "Input list size different from output table size, most likely\n",
      "because some lines were not found in the database\n",
      "No line with name  test-MIRLINE  was found\n",
      "Input list size different from output table size, most likely\n",
      "because some lines were not found in the database\n",
      "CUBE: wavelength unit does not exist in the header of sci hdu.\n",
      "local variable 'header' referenced before assignment\n",
      "... Continuing anyway ...\n"
     ]
    },
    {
     "ename": "KeyError",
     "evalue": "'comp_best_fit'",
     "output_type": "error",
     "traceback": [
      "\u001b[0;31m---------------------------------------------------------------------------\u001b[0m",
      "\u001b[0;31mKeyError\u001b[0m                                  Traceback (most recent call last)",
      "\u001b[0;32m<ipython-input-6-1ebe10100dc6>\u001b[0m in \u001b[0;36m<module>\u001b[0;34m\u001b[0m\n\u001b[0;32m----> 1\u001b[0;31m \u001b[0mq3da\u001b[0m\u001b[0;34m(\u001b[0m\u001b[0minitproc\u001b[0m\u001b[0;34m[\u001b[0m\u001b[0;34m(\u001b[0m\u001b[0;34m)\u001b[0m\u001b[0;34m]\u001b[0m\u001b[0;34m,\u001b[0m\u001b[0mcols\u001b[0m\u001b[0;34m=\u001b[0m\u001b[0mcols\u001b[0m\u001b[0;34m,\u001b[0m\u001b[0mrows\u001b[0m\u001b[0;34m=\u001b[0m\u001b[0mrows\u001b[0m\u001b[0;34m)\u001b[0m\u001b[0;34m\u001b[0m\u001b[0;34m\u001b[0m\u001b[0m\n\u001b[0m",
      "\u001b[0;32m~/Docs/Rupke Research/q3dfit/q3dfit/common/q3da.py\u001b[0m in \u001b[0;36mq3da\u001b[0;34m(initproc, cols, rows, noplots, oned, quiet)\u001b[0m\n\u001b[1;32m    887\u001b[0m                                    \u001b[0mMIRgdflux\u001b[0m\u001b[0;34m=\u001b[0m\u001b[0mgdflux\u001b[0m\u001b[0;34m[\u001b[0m\u001b[0mct_indx\u001b[0m\u001b[0;34m]\u001b[0m\u001b[0;34m,\u001b[0m\u001b[0;34m\u001b[0m\u001b[0;34m\u001b[0m\u001b[0m\n\u001b[1;32m    888\u001b[0m                                    \u001b[0mMIRcontinuum\u001b[0m\u001b[0;34m=\u001b[0m\u001b[0mcontinuum\u001b[0m\u001b[0;34m[\u001b[0m\u001b[0mct_indx\u001b[0m\u001b[0;34m]\u001b[0m\u001b[0;34m,\u001b[0m\u001b[0;34m\u001b[0m\u001b[0;34m\u001b[0m\u001b[0m\n\u001b[0;32m--> 889\u001b[0;31m                                    ct_coeff=ct_coeff,IR=1,title='Total')\n\u001b[0m\u001b[1;32m    890\u001b[0m \u001b[0;34m\u001b[0m\u001b[0m\n\u001b[1;32m    891\u001b[0m     \u001b[0;31m# Save emission line and continuum dictionaries\u001b[0m\u001b[0;34m\u001b[0m\u001b[0;34m\u001b[0m\u001b[0;34m\u001b[0m\u001b[0m\n",
      "\u001b[0;32m~/Docs/Rupke Research/q3dfit/q3dfit/common/plot_cont.py\u001b[0m in \u001b[0;36mplot_cont\u001b[0;34m(instr, outfile, MIRgdlambda, MIRgdflux, MIRcontinuum, ct_coeff, initdat, compspec, comptitles, ps, title, fitran, yranminmax, IR)\u001b[0m\n\u001b[1;32m    300\u001b[0m     \u001b[0;31m# for IR spectra fit with questfit:\u001b[0m\u001b[0;34m\u001b[0m\u001b[0;34m\u001b[0m\u001b[0;34m\u001b[0m\u001b[0m\n\u001b[1;32m    301\u001b[0m     \u001b[0;32melif\u001b[0m \u001b[0mIR\u001b[0m \u001b[0;34m==\u001b[0m \u001b[0;36m1\u001b[0m\u001b[0;34m:\u001b[0m\u001b[0;34m\u001b[0m\u001b[0;34m\u001b[0m\u001b[0m\n\u001b[0;32m--> 302\u001b[0;31m         \u001b[0mcomp_best_fit\u001b[0m \u001b[0;34m=\u001b[0m \u001b[0mct_coeff\u001b[0m\u001b[0;34m[\u001b[0m\u001b[0;34m'comp_best_fit'\u001b[0m\u001b[0;34m]\u001b[0m\u001b[0;34m\u001b[0m\u001b[0;34m\u001b[0m\u001b[0m\n\u001b[0m\u001b[1;32m    303\u001b[0m \u001b[0;34m\u001b[0m\u001b[0m\n\u001b[1;32m    304\u001b[0m         \u001b[0;32mif\u001b[0m \u001b[0mxstyle\u001b[0m \u001b[0;34m==\u001b[0m \u001b[0;34m'log'\u001b[0m \u001b[0;32mor\u001b[0m \u001b[0mystyle\u001b[0m \u001b[0;34m==\u001b[0m \u001b[0;34m'log'\u001b[0m\u001b[0;34m:\u001b[0m\u001b[0;34m\u001b[0m\u001b[0;34m\u001b[0m\u001b[0m\n",
      "\u001b[0;31mKeyError\u001b[0m: 'comp_best_fit'"
     ]
    }
   ],
   "source": [
    "q3da(initproc[()],cols=cols,rows=rows)"
   ]
  },
  {
   "cell_type": "code",
   "execution_count": null,
   "metadata": {},
   "outputs": [],
   "source": []
  }
 ],
 "metadata": {
  "kernelspec": {
   "display_name": "JWebbinar",
   "language": "python",
   "name": "jwebbinar"
  },
  "language_info": {
   "codemirror_mode": {
    "name": "ipython",
    "version": 3
   },
   "file_extension": ".py",
   "mimetype": "text/x-python",
   "name": "python",
   "nbconvert_exporter": "python",
   "pygments_lexer": "ipython3",
   "version": "3.7.10"
  }
 },
 "nbformat": 4,
 "nbformat_minor": 4
}